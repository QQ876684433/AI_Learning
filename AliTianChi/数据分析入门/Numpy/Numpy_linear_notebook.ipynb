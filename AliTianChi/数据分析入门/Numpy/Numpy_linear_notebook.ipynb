{
 "cells": [
  {
   "cell_type": "code",
   "execution_count": 1,
   "metadata": {
    "collapsed": true
   },
   "outputs": [
    {
     "name": "stdout",
     "output_type": "stream",
     "text": [
      "[[1. 2. 3.]\n [4. 5. 6.]]\n==========\n[[ 6. 23.]\n [-1.  7.]\n [ 8.  9.]]\n==========\n[[ 28.  64.]\n [ 67. 181.]]\n==========\n[[ 98. 127. 156.]\n [ 27.  33.  39.]\n [ 44.  61.  78.]]\n"
     ]
    }
   ],
   "source": [
    "import numpy as np\n",
    "\n",
    "x = np.array([[1., 2., 3.], [4., 5., 6.]])\n",
    "y = np.array([[6., 23.], [-1, 7], [8, 9]])\n",
    "\n",
    "print(x)\n",
    "print(10*'=')\n",
    "print(y)\n",
    "print(10*'=')\n",
    "print(x.dot(y))\n",
    "print(10*'=')\n",
    "print(y.dot(x))"
   ]
  },
  {
   "cell_type": "code",
   "execution_count": 2,
   "metadata": {},
   "outputs": [
    {
     "name": "stdout",
     "output_type": "stream",
     "text": [
      "[1. 1. 1.]\n==========\n[ 6. 15.]\n==========\n"
     ]
    },
    {
     "ename": "ValueError",
     "evalue": "shapes (3,) and (2,3) not aligned: 3 (dim 0) != 2 (dim 0)",
     "traceback": [
      "\u001b[0;31m---------------------------------------------------------------------------\u001b[0m",
      "\u001b[0;31mValueError\u001b[0m                                Traceback (most recent call last)",
      "\u001b[0;32m<ipython-input-2-2ccbb36613c2>\u001b[0m in \u001b[0;36m<module>\u001b[0;34m\u001b[0m\n\u001b[1;32m      3\u001b[0m \u001b[0mprint\u001b[0m\u001b[0;34m(\u001b[0m\u001b[0mnp\u001b[0m\u001b[0;34m.\u001b[0m\u001b[0mdot\u001b[0m\u001b[0;34m(\u001b[0m\u001b[0mx\u001b[0m\u001b[0;34m,\u001b[0m \u001b[0mnp\u001b[0m\u001b[0;34m.\u001b[0m\u001b[0mones\u001b[0m\u001b[0;34m(\u001b[0m\u001b[0;36m3\u001b[0m\u001b[0;34m)\u001b[0m\u001b[0;34m)\u001b[0m\u001b[0;34m)\u001b[0m\u001b[0;34m\u001b[0m\u001b[0m\n\u001b[1;32m      4\u001b[0m \u001b[0mprint\u001b[0m\u001b[0;34m(\u001b[0m\u001b[0;36m10\u001b[0m\u001b[0;34m*\u001b[0m\u001b[0;34m'='\u001b[0m\u001b[0;34m)\u001b[0m\u001b[0;34m\u001b[0m\u001b[0m\n\u001b[0;32m----> 5\u001b[0;31m \u001b[0mprint\u001b[0m\u001b[0;34m(\u001b[0m\u001b[0mnp\u001b[0m\u001b[0;34m.\u001b[0m\u001b[0mdot\u001b[0m\u001b[0;34m(\u001b[0m\u001b[0mnp\u001b[0m\u001b[0;34m.\u001b[0m\u001b[0mones\u001b[0m\u001b[0;34m(\u001b[0m\u001b[0;36m3\u001b[0m\u001b[0;34m)\u001b[0m\u001b[0;34m,\u001b[0m\u001b[0mx\u001b[0m\u001b[0;34m)\u001b[0m\u001b[0;34m)\u001b[0m\u001b[0;34m\u001b[0m\u001b[0m\n\u001b[0m",
      "\u001b[0;31mValueError\u001b[0m: shapes (3,) and (2,3) not aligned: 3 (dim 0) != 2 (dim 0)"
     ],
     "output_type": "error"
    }
   ],
   "source": [
    "print(np.ones(3))\n",
    "print(10 * '=')\n",
    "print(np.dot(x, np.ones(3)))\n",
    "print(10 * '=')\n",
    "print(np.dot(np.ones(3), x))\n"
   ]
  },
  {
   "cell_type": "code",
   "execution_count": 3,
   "metadata": {},
   "outputs": [
    {
     "name": "stdout",
     "output_type": "stream",
     "text": [
      "[ 6. 15.]\n"
     ]
    }
   ],
   "source": [
    "print(np.dot(np.ones(3), x.T))\n"
   ]
  },
  {
   "cell_type": "code",
   "execution_count": 4,
   "metadata": {},
   "outputs": [
    {
     "name": "stdout",
     "output_type": "stream",
     "text": [
      "[ 6. 15.]\n"
     ]
    }
   ],
   "source": [
    "print(x @ np.ones(3))"
   ]
  },
  {
   "cell_type": "code",
   "execution_count": 5,
   "metadata": {},
   "outputs": [
    {
     "name": "stdout",
     "output_type": "stream",
     "text": [
      "[[  1.24462722   0.41045958  -0.02096639   1.51702344  -0.59195333]\n [  0.41045958   0.4667729    1.48853352  -1.09554057   0.89167861]\n [ -0.02096639   1.48853352  11.6627005  -12.97151258   9.27057052]\n [  1.51702344  -1.09554057 -12.97151258  16.89363613 -11.52978119]\n [ -0.59195333   0.89167861   9.27057052 -11.52978119   8.19235913]]\n==========\n[[ 1.00000000e+00  1.23023603e-15 -5.61956988e-15 -4.31360326e-15\n   1.92588422e-15]\n [ 1.89851990e-16  1.00000000e+00  2.51460736e-15 -4.17630799e-16\n   4.35474905e-15]\n [ 9.72231756e-17 -2.14033875e-16  1.00000000e+00  2.06331770e-15\n  -4.33058739e-15]\n [ 5.95526647e-16 -1.48434252e-15 -1.34850265e-14  1.00000000e+00\n  -1.69227431e-14]\n [-7.42494449e-16 -2.69137521e-16  3.39137061e-15  8.33410791e-16\n   1.00000000e+00]]\n[[-9.64470871  6.93600194  1.55114613  9.82630524 10.67946819]\n [ 0.         -7.22831878  3.14976288  1.85905408 -0.15744903]\n [ 0.          0.         -1.30857771  1.57060545  3.77663063]\n [ 0.          0.          0.         -1.14667644 -1.6427609 ]\n [ 0.          0.          0.          0.          0.05901378]]\n"
     ]
    }
   ],
   "source": [
    "from numpy.linalg import inv, qr\n",
    "\n",
    "X = np.random.randn(5, 5)\n",
    "mat = X.T.dot(X)\n",
    "print(inv(mat))\n",
    "print(10 * '=')\n",
    "print(mat.dot(inv(mat)))\n",
    "\n",
    "q, r = qr(mat)\n",
    "print(r)\n"
   ]
  },
  {
   "cell_type": "code",
   "execution_count": 1,
   "metadata": {},
   "outputs": [
    {
     "name": "stdout",
     "output_type": "stream",
     "text": [
      "[[ 1.29162951 -0.97237152 -0.3398688   0.92437901  0.27609522]\n [-0.97237152  0.97191151  0.55268202 -0.72359832 -0.15811589]\n [-0.3398688   0.55268202  0.95949089 -0.07553207  0.09912279]\n [ 0.92437901 -0.72359832 -0.07553207  0.98187297  0.18694212]\n [ 0.27609522 -0.15811589  0.09912279  0.18694212  0.31011706]]\n==========\n[[ 1.00000000e+00 -1.28674783e-16  1.09802329e-17  1.15220460e-16\n  -1.06531231e-16]\n [ 2.12911131e-15  1.00000000e+00 -2.32340003e-16  1.40392052e-15\n  -9.69628447e-17]\n [-5.22792896e-16 -6.23109722e-16  1.00000000e+00 -4.83124695e-16\n   1.75729321e-17]\n [ 8.51545105e-17  1.26186583e-16  3.11974498e-16  1.00000000e+00\n  -1.50008493e-16]\n [ 5.16390925e-16 -1.86551275e-16  1.02086004e-16  8.04186000e-17\n   1.00000000e+00]]\n[[-6.58235511 -6.76998737  1.51629522  1.24945192  1.87899557]\n [ 0.         -8.39967507  5.17717136 -5.70594605 -3.42519139]\n [ 0.          0.         -1.0992931  -0.83753505  1.77226239]\n [ 0.          0.          0.         -1.06719966  2.66021345]\n [ 0.          0.          0.          0.          2.03205667]]\n"
     ]
    }
   ],
   "source": [
    "from numpy.linalg import inv, qr\n",
    "import numpy as np\n",
    "\n",
    "X = np.random.randn(5, 5)\n",
    "mat = X.T.dot(X)\n",
    "print(inv(mat))\n",
    "print(10 * '=')\n",
    "print(mat.dot(inv(mat)))\n",
    "\n",
    "q, r = qr(mat)\n",
    "print(r)\n"
   ]
  },
  {
   "cell_type": "code",
   "execution_count": 2,
   "metadata": {},
   "outputs": [
    {
     "name": "stdout",
     "output_type": "stream",
     "text": [
      "[[1 0 0 0]\n [0 2 0 0]\n [0 0 3 0]\n [0 0 0 4]]\n"
     ]
    }
   ],
   "source": [
    "arr = np.array([1, 2, 3, 4])\n",
    "print(np.diag(arr))\n"
   ]
  },
  {
   "cell_type": "code",
   "execution_count": 3,
   "metadata": {},
   "outputs": [
    {
     "name": "stdout",
     "output_type": "stream",
     "text": [
      "[1 2 3 4]\n"
     ]
    }
   ],
   "source": [
    "print(np.diag(np.diag(arr)))"
   ]
  },
  {
   "cell_type": "code",
   "execution_count": 4,
   "metadata": {},
   "outputs": [
    {
     "name": "stdout",
     "output_type": "stream",
     "text": [
      "10\n"
     ]
    }
   ],
   "source": [
    "print(np.trace(np.diag(arr)))"
   ]
  },
  {
   "cell_type": "code",
   "execution_count": 5,
   "metadata": {},
   "outputs": [
    {
     "ename": "AttributeError",
     "evalue": "module 'numpy' has no attribute 'det'",
     "traceback": [
      "\u001b[0;31m---------------------------------------------------------------------------\u001b[0m",
      "\u001b[0;31mAttributeError\u001b[0m                            Traceback (most recent call last)",
      "\u001b[0;32m<ipython-input-5-1366afcae8d7>\u001b[0m in \u001b[0;36m<module>\u001b[0;34m\u001b[0m\n\u001b[0;32m----> 1\u001b[0;31m \u001b[0mprint\u001b[0m\u001b[0;34m(\u001b[0m\u001b[0mnp\u001b[0m\u001b[0;34m.\u001b[0m\u001b[0mdet\u001b[0m\u001b[0;34m(\u001b[0m\u001b[0mnp\u001b[0m\u001b[0;34m.\u001b[0m\u001b[0mdiag\u001b[0m\u001b[0;34m(\u001b[0m\u001b[0marr\u001b[0m\u001b[0;34m)\u001b[0m\u001b[0;34m)\u001b[0m\u001b[0;34m)\u001b[0m\u001b[0;34m\u001b[0m\u001b[0m\n\u001b[0m",
      "\u001b[0;31mAttributeError\u001b[0m: module 'numpy' has no attribute 'det'"
     ],
     "output_type": "error"
    }
   ],
   "source": [
    "print(np.det(np.diag(arr)))"
   ]
  },
  {
   "cell_type": "code",
   "execution_count": 6,
   "metadata": {},
   "outputs": [
    {
     "name": "stdout",
     "output_type": "stream",
     "text": [
      "23.999999999999993\n"
     ]
    }
   ],
   "source": [
    "import numpy.linalg as lg\n",
    "print(lg.det(np.diag(arr)))"
   ]
  },
  {
   "cell_type": "code",
   "execution_count": 7,
   "metadata": {},
   "outputs": [
    {
     "name": "stdout",
     "output_type": "stream",
     "text": [
      "23\n"
     ]
    }
   ],
   "source": [
    "print(int(lg.det(np.diag(arr))))"
   ]
  },
  {
   "cell_type": "code",
   "execution_count": 8,
   "metadata": {},
   "outputs": [
    {
     "name": "stdout",
     "output_type": "stream",
     "text": [
      "23\n"
     ]
    }
   ],
   "source": [
    "import math\n",
    "\n",
    "print(math.ceil(int(lg.det(np.diag(arr)))))"
   ]
  },
  {
   "cell_type": "code",
   "execution_count": null,
   "metadata": {},
   "outputs": [],
   "source": []
  }
 ],
 "metadata": {
  "kernelspec": {
   "display_name": "Python 2",
   "language": "python",
   "name": "python2"
  },
  "language_info": {
   "codemirror_mode": {
    "name": "ipython",
    "version": 2
   },
   "file_extension": ".py",
   "mimetype": "text/x-python",
   "name": "python",
   "nbconvert_exporter": "python",
   "pygments_lexer": "ipython2",
   "version": "2.7.6"
  }
 },
 "nbformat": 4,
 "nbformat_minor": 0
}
