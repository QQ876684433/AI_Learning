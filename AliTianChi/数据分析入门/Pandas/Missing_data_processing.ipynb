{
 "cells": [
  {
   "cell_type": "code",
   "execution_count": 3,
   "metadata": {
    "collapsed": true
   },
   "outputs": [
    {
     "name": "stdout",
     "output_type": "stream",
     "text": [
      "    Name  Score\n0  Steve     88\n1    Amy     76\n2   Saar     89\n3    CCL     67\n4   Chph     79\n5    Sue     90\n6  David     92\n7  Jimmy    100\n==========\n   Age  Height  Weight Sex   Name\n0   11       1      25   F  Steve\n1   23       2      14   M   Jobs\n2   51       3      36   F   Mark\n3    2       6      85   F    CCL\n4    1       5      47   M   Chph\n5   45       4      98   M    Sue\n6   63       7      74   M  David\n7   21       8      51   F  Jimmy\n"
     ]
    }
   ],
   "source": [
    "import pandas as pd\n",
    "import numpy as np\n",
    "\n",
    "dic2 = {'Name': ['Steve', 'Amy', 'Saar', 'CCL', 'Chph', 'Sue', 'David', 'Jimmy'],\n",
    "        'Score': [88, 76, 89, 67, 79, 90, 92, 100]}\n",
    "score = pd.DataFrame(dic2)\n",
    "print(score)\n",
    "\n",
    "print(10*'=')\n",
    "\n",
    "student=pd.DataFrame({'Age': [11, 23, 51, 2, 1, 45, 63, 21], 'Height': [1, 2, 3, 6, 5, 4, 7, 8],\n",
    "                    'Weight': [25, 14, 36, 85, 47, 98, 74, 51],\n",
    "                    'Sex': ['F', 'M', 'F', 'F', 'M', 'M', 'M', 'F'],\n",
    "                    'Name': ['Steve', 'Jobs', 'Mark', 'CCL', 'Chph', 'Sue', 'David', 'Jimmy']})\n",
    "print(student)\n",
    "\n"
   ]
  },
  {
   "cell_type": "code",
   "execution_count": 4,
   "metadata": {},
   "outputs": [
    {
     "name": "stdout",
     "output_type": "stream",
     "text": [
      "    Age  Height  Weight  Sex   Name  Score\n0  11.0     1.0    25.0    F  Steve   88.0\n1  23.0     2.0    14.0    M   Jobs    NaN\n2  51.0     3.0    36.0    F   Mark    NaN\n3   2.0     6.0    85.0    F    CCL   67.0\n4   1.0     5.0    47.0    M   Chph   79.0\n5  45.0     4.0    98.0    M    Sue   90.0\n6  63.0     7.0    74.0    M  David   92.0\n7  21.0     8.0    51.0    F  Jimmy  100.0\n8   NaN     NaN     NaN  NaN    Amy   76.0\n9   NaN     NaN     NaN  NaN   Saar   89.0\n"
     ]
    }
   ],
   "source": [
    "stu_score = pd.merge(student, score, on='Name', how='outer')\n",
    "\n",
    "print(stu_score)"
   ]
  },
  {
   "cell_type": "code",
   "execution_count": 5,
   "metadata": {},
   "outputs": [
    {
     "name": "stdout",
     "output_type": "stream",
     "text": [
      "0     88.0\n1      NaN\n2      NaN\n3     67.0\n4     79.0\n5     90.0\n6     92.0\n7    100.0\n8     76.0\n9     89.0\nName: Score, dtype: float64\n<class 'pandas.core.series.Series'>\n"
     ]
    }
   ],
   "source": [
    "s = stu_score['Score']\n",
    "print(s)\n",
    "print(type(s))\n"
   ]
  },
  {
   "cell_type": "code",
   "execution_count": 6,
   "metadata": {},
   "outputs": [
    {
     "name": "stdout",
     "output_type": "stream",
     "text": [
      "2\n"
     ]
    }
   ],
   "source": [
    "print(sum(pd.isnull(s)))\n"
   ]
  },
  {
   "cell_type": "code",
   "execution_count": 7,
   "metadata": {},
   "outputs": [
    {
     "name": "stdout",
     "output_type": "stream",
     "text": [
      "0     88.0\n3     67.0\n4     79.0\n5     90.0\n6     92.0\n7    100.0\n8     76.0\n9     89.0\nName: Score, dtype: float64\n"
     ]
    }
   ],
   "source": [
    "print(s.dropna())"
   ]
  },
  {
   "cell_type": "code",
   "execution_count": 8,
   "metadata": {},
   "outputs": [
    {
     "name": "stdout",
     "output_type": "stream",
     "text": [
      "     x1    x2    x3\n0   1.0   1.0   2.0\n1   3.0   5.0   NaN\n2  13.0  21.0  34.0\n3  55.0   NaN  10.0\n4   NaN   NaN   NaN\n5   NaN   1.0   2.0\n     x1    x2    x3\n0   1.0   1.0   2.0\n2  13.0  21.0  34.0\n"
     ]
    }
   ],
   "source": [
    "df = pd.DataFrame([[1, 1, 2], \n",
    "                   [3, 5, np.nan], \n",
    "                   [13, 21, 34], \n",
    "                   [55, np.nan, 10], \n",
    "                   [np.nan, np.nan, np.nan], \n",
    "                   [np.nan, 1, 2]],\n",
    "                  columns=('x1', 'x2', 'x3'))\n",
    "print(df)\n",
    "print(df.dropna())\n"
   ]
  },
  {
   "cell_type": "code",
   "execution_count": 10,
   "metadata": {},
   "outputs": [
    {
     "name": "stdout",
     "output_type": "stream",
     "text": [
      "     x1    x2    x3\n0   1.0   1.0   2.0\n1   3.0   5.0  -1.0\n2  13.0  21.0  34.0\n3  55.0  -1.0  10.0\n4  -1.0  -1.0  -1.0\n5  -1.0   1.0   2.0\n"
     ]
    }
   ],
   "source": [
    "print(df.fillna(-1))"
   ]
  },
  {
   "cell_type": "code",
   "execution_count": 11,
   "metadata": {},
   "outputs": [
    {
     "name": "stdout",
     "output_type": "stream",
     "text": [
      "     x1    x2    x3\n0   1.0   1.0   2.0\n1   3.0   5.0   2.0\n2  13.0  21.0  34.0\n3  55.0  21.0  10.0\n4  55.0  21.0  10.0\n5  55.0   1.0   2.0\n==========\n     x1    x2    x3\n0   1.0   1.0   2.0\n1   3.0   5.0  34.0\n2  13.0  21.0  34.0\n3  55.0   1.0  10.0\n4   NaN   1.0   2.0\n5   NaN   1.0   2.0\n"
     ]
    }
   ],
   "source": [
    "print(df.fillna(method='ffill'))\n",
    "print(10 * '=')\n",
    "print(df.fillna(method='bfill'))\n"
   ]
  },
  {
   "cell_type": "code",
   "execution_count": 12,
   "metadata": {},
   "outputs": [
    {
     "name": "stdout",
     "output_type": "stream",
     "text": [
      "     x1    x2    x3\n0   1.0   1.0   2.0\n1   3.0   5.0   3.0\n2  13.0  21.0  34.0\n3  55.0   2.0  10.0\n4   1.0   2.0   3.0\n5   1.0   1.0   2.0\n"
     ]
    }
   ],
   "source": [
    "print(df.fillna({'x1': 1, 'x2': 2, 'x3': 3}))\n"
   ]
  },
  {
   "cell_type": "code",
   "execution_count": 13,
   "metadata": {},
   "outputs": [],
   "source": [
    "x1_median=df['x1'].median()\n",
    "x2_mean=df['x2'].mean()\n",
    "x3_mean=df['x3'].mean()"
   ]
  },
  {
   "cell_type": "code",
   "execution_count": 14,
   "metadata": {},
   "outputs": [
    {
     "name": "stdout",
     "output_type": "stream",
     "text": [
      "8.0\n7.0\n12.0\n     x1    x2    x3\n0   1.0   1.0   2.0\n1   3.0   5.0  12.0\n2  13.0  21.0  34.0\n3  55.0   7.0  10.0\n4   8.0   7.0  12.0\n5   8.0   1.0   2.0\n"
     ]
    }
   ],
   "source": [
    "print(x1_median)\n",
    "print(x2_mean)\n",
    "print(x3_mean)\n",
    "print(df.fillna({'x1': x1_median, 'x2': x2_mean, 'x3': x3_mean}))\n"
   ]
  },
  {
   "cell_type": "code",
   "execution_count": null,
   "metadata": {},
   "outputs": [],
   "source": []
  }
 ],
 "metadata": {
  "kernelspec": {
   "display_name": "Python 2",
   "language": "python",
   "name": "python2"
  },
  "language_info": {
   "codemirror_mode": {
    "name": "ipython",
    "version": 2
   },
   "file_extension": ".py",
   "mimetype": "text/x-python",
   "name": "python",
   "nbconvert_exporter": "python",
   "pygments_lexer": "ipython2",
   "version": "2.7.6"
  }
 },
 "nbformat": 4,
 "nbformat_minor": 0
}
