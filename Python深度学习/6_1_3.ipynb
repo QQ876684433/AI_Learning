{
 "cells": [
  {
   "cell_type": "code",
   "execution_count": 1,
   "metadata": {
    "collapsed": true
   },
   "outputs": [],
   "source": [
    "import os\n",
    "\n",
    "imdb_dir = '/home/steve/PycharmProjects/AI_Learning/Python深度学习/data/aclImdb/aclImdb'\n",
    "train_dir = os.path.join(imdb_dir, 'train')\n",
    "\n",
    "labels = []\n",
    "texts = []\n",
    "\n",
    "for label_type in ['neg', 'pos']:\n",
    "    dir_name = os.path.join(train_dir, label_type)\n",
    "    for fname in os.listdir(dir_name):\n",
    "        if fname[-4:] == '.txt':\n",
    "            f = open(os.path.join(dir_name, fname))\n",
    "            texts.append(f.read())\n",
    "            f.close()\n",
    "            if label_type == 'neg':\n",
    "                labels.append(0)\n",
    "            else:\n",
    "                labels.append(1)\n"
   ]
  },
  {
   "cell_type": "code",
   "execution_count": 3,
   "metadata": {},
   "outputs": [
    {
     "name": "stdout",
     "output_type": "stream",
     "text": [
      "Found 88582 unique tokens.\n"
     ]
    },
    {
     "name": "stdout",
     "output_type": "stream",
     "text": [
      "Shape of data tensor: (25000, 100)\nShape of label tensor: (25000,)\n"
     ]
    }
   ],
   "source": [
    "from keras.preprocessing.text import Tokenizer\n",
    "from keras.preprocessing.sequence import pad_sequences\n",
    "import numpy as np\n",
    "\n",
    "max_len = 100  # 在100个单词后截断评论\n",
    "training_samples = 200  # 在200个样本上训练\n",
    "validation_samples = 10000  # 在10000个样本上进行验证\n",
    "max_words = 10000  # 只考虑数据集中前10000个最常见的单词\n",
    "\n",
    "tokenizer = Tokenizer(num_words=max_words)\n",
    "tokenizer.fit_on_texts(texts)\n",
    "sequences = tokenizer.texts_to_sequences(texts)\n",
    "\n",
    "word_index = tokenizer.word_index\n",
    "print('Found %s unique tokens.' % len(word_index))\n",
    "\n",
    "data = pad_sequences(sequences, maxlen=max_len)\n",
    "\n",
    "labels = np.asarray(labels)\n",
    "print('Shape of data tensor:', data.shape)\n",
    "print('Shape of label tensor:', labels.shape)\n",
    "\n",
    "indices = np.arange(data.shape[0])\n",
    "np.random.shuffle(indices)\n",
    "data = data[indices]\n",
    "labels = labels[indices]\n",
    "\n",
    "x_train = data[:training_samples]\n",
    "y_train = labels[:training_samples]\n",
    "x_val = data[training_samples:training_samples + validation_samples]\n",
    "y_val = labels[training_samples:training_samples + validation_samples]\n"
   ]
  },
  {
   "cell_type": "code",
   "execution_count": 4,
   "metadata": {},
   "outputs": [
    {
     "name": "stdout",
     "output_type": "stream",
     "text": [
      "Found 400000 word vectors.\n"
     ]
    }
   ],
   "source": [
    "glove_dir = '/home/steve/PycharmProjects/AI_Learning/Python深度学习/data/glove.6B'\n",
    "\n",
    "embedding_index = {}\n",
    "f = open(os.path.join(glove_dir, 'glove.6B.100d.txt'))\n",
    "for line in f:\n",
    "    values = line.split()\n",
    "    word = values[0]\n",
    "    coefs = np.asarray(values[1:], dtype='float32')\n",
    "    embedding_index[word] = coefs\n",
    "f.close()\n",
    "\n",
    "print('Found %s word vectors.' % len(embedding_index))\n"
   ]
  },
  {
   "cell_type": "code",
   "execution_count": 12,
   "metadata": {
    "collapsed": true
   },
   "outputs": [
    {
     "data": {
      "text/plain": [
       "{'the': 1,\n 'and': 2,\n 'a': 3,\n 'of': 4,\n 'to': 5,\n 'is': 6,\n 'br': 7,\n 'in': 8,\n 'it': 9,\n 'i': 10,\n 'this': 11,\n 'that': 12,\n 'was': 13,\n 'as': 14,\n 'for': 15,\n 'with': 16,\n 'movie': 17,\n 'but': 18,\n 'film': 19,\n 'on': 20,\n 'not': 21,\n 'you': 22,\n 'are': 23,\n 'his': 24,\n 'have': 25,\n 'he': 26,\n 'be': 27,\n 'one': 28,\n 'all': 29,\n 'at': 30,\n 'by': 31,\n 'an': 32,\n 'they': 33,\n 'who': 34,\n 'so': 35,\n 'from': 36,\n 'like': 37,\n 'her': 38,\n 'or': 39,\n 'just': 40,\n 'about': 41,\n \"it's\": 42,\n 'out': 43,\n 'has': 44,\n 'if': 45,\n 'some': 46,\n 'there': 47,\n 'what': 48,\n 'good': 49,\n 'more': 50,\n 'when': 51,\n 'very': 52,\n 'up': 53,\n 'no': 54,\n 'time': 55,\n 'she': 56,\n 'even': 57,\n 'my': 58,\n 'would': 59,\n 'which': 60,\n 'only': 61,\n 'story': 62,\n 'really': 63,\n 'see': 64,\n 'their': 65,\n 'had': 66,\n 'can': 67,\n 'were': 68,\n 'me': 69,\n 'well': 70,\n 'than': 71,\n 'we': 72,\n 'much': 73,\n 'been': 74,\n 'bad': 75,\n 'get': 76,\n 'will': 77,\n 'do': 78,\n 'also': 79,\n 'into': 80,\n 'people': 81,\n 'other': 82,\n 'first': 83,\n 'great': 84,\n 'because': 85,\n 'how': 86,\n 'him': 87,\n 'most': 88,\n \"don't\": 89,\n 'made': 90,\n 'its': 91,\n 'then': 92,\n 'way': 93,\n 'make': 94,\n 'them': 95,\n 'too': 96,\n 'could': 97,\n 'any': 98,\n 'movies': 99,\n 'after': 100,\n 'think': 101,\n 'characters': 102,\n 'watch': 103,\n 'two': 104,\n 'films': 105,\n 'character': 106,\n 'seen': 107,\n 'many': 108,\n 'being': 109,\n 'life': 110,\n 'plot': 111,\n 'never': 112,\n 'acting': 113,\n 'little': 114,\n 'best': 115,\n 'love': 116,\n 'over': 117,\n 'where': 118,\n 'did': 119,\n 'show': 120,\n 'know': 121,\n 'off': 122,\n 'ever': 123,\n 'does': 124,\n 'better': 125,\n 'your': 126,\n 'end': 127,\n 'still': 128,\n 'man': 129,\n 'here': 130,\n 'these': 131,\n 'say': 132,\n 'scene': 133,\n 'while': 134,\n 'why': 135,\n 'scenes': 136,\n 'go': 137,\n 'such': 138,\n 'something': 139,\n 'through': 140,\n 'should': 141,\n 'back': 142,\n \"i'm\": 143,\n 'real': 144,\n 'those': 145,\n 'watching': 146,\n 'now': 147,\n 'though': 148,\n \"doesn't\": 149,\n 'years': 150,\n 'thing': 151,\n 'old': 152,\n 'actors': 153,\n 'work': 154,\n '10': 155,\n 'before': 156,\n 'another': 157,\n \"didn't\": 158,\n 'new': 159,\n 'funny': 160,\n 'nothing': 161,\n 'actually': 162,\n 'makes': 163,\n 'director': 164,\n 'look': 165,\n 'find': 166,\n 'going': 167,\n 'few': 168,\n 'same': 169,\n 'part': 170,\n 'again': 171,\n 'every': 172,\n 'lot': 173,\n 'cast': 174,\n 'us': 175,\n 'quite': 176,\n 'down': 177,\n 'want': 178,\n 'world': 179,\n 'things': 180,\n 'pretty': 181,\n 'young': 182,\n 'seems': 183,\n 'around': 184,\n 'got': 185,\n 'horror': 186,\n 'however': 187,\n \"can't\": 188,\n 'fact': 189,\n 'take': 190,\n 'big': 191,\n 'enough': 192,\n 'long': 193,\n 'thought': 194,\n \"that's\": 195,\n 'both': 196,\n 'between': 197,\n 'series': 198,\n 'give': 199,\n 'may': 200,\n 'original': 201,\n 'action': 202,\n 'own': 203,\n \"i've\": 204,\n 'right': 205,\n 'without': 206,\n 'always': 207,\n 'times': 208,\n 'comedy': 209,\n 'point': 210,\n 'gets': 211,\n 'must': 212,\n 'come': 213,\n 'role': 214,\n \"isn't\": 215,\n 'saw': 216,\n 'almost': 217,\n 'interesting': 218,\n 'least': 219,\n 'family': 220,\n 'done': 221,\n \"there's\": 222,\n 'whole': 223,\n 'bit': 224,\n 'music': 225,\n 'script': 226,\n 'far': 227,\n 'making': 228,\n 'guy': 229,\n 'anything': 230,\n 'feel': 231,\n 'minutes': 232,\n 'last': 233,\n 'since': 234,\n 'might': 235,\n 'performance': 236,\n \"he's\": 237,\n '2': 238,\n 'probably': 239,\n 'kind': 240,\n 'am': 241,\n 'away': 242,\n 'yet': 243,\n 'rather': 244,\n 'tv': 245,\n 'worst': 246,\n 'girl': 247,\n 'day': 248,\n 'sure': 249,\n 'fun': 250,\n 'hard': 251,\n 'woman': 252,\n 'played': 253,\n 'each': 254,\n 'found': 255,\n 'anyone': 256,\n 'having': 257,\n 'although': 258,\n 'especially': 259,\n 'our': 260,\n 'believe': 261,\n 'course': 262,\n 'comes': 263,\n 'looking': 264,\n 'screen': 265,\n 'trying': 266,\n 'set': 267,\n 'goes': 268,\n 'looks': 269,\n 'place': 270,\n 'book': 271,\n 'different': 272,\n 'put': 273,\n 'ending': 274,\n 'money': 275,\n 'maybe': 276,\n 'once': 277,\n 'sense': 278,\n 'reason': 279,\n 'true': 280,\n 'actor': 281,\n 'everything': 282,\n \"wasn't\": 283,\n 'shows': 284,\n 'dvd': 285,\n 'three': 286,\n 'worth': 287,\n 'year': 288,\n 'job': 289,\n 'main': 290,\n 'someone': 291,\n 'together': 292,\n 'watched': 293,\n 'play': 294,\n 'american': 295,\n 'plays': 296,\n '1': 297,\n 'said': 298,\n 'effects': 299,\n 'later': 300,\n 'takes': 301,\n 'instead': 302,\n 'seem': 303,\n 'john': 304,\n 'beautiful': 305,\n 'himself': 306,\n 'version': 307,\n 'audience': 308,\n 'high': 309,\n 'house': 310,\n 'night': 311,\n 'during': 312,\n 'everyone': 313,\n 'left': 314,\n 'special': 315,\n 'seeing': 316,\n 'half': 317,\n 'excellent': 318,\n 'wife': 319,\n 'star': 320,\n 'shot': 321,\n 'war': 322,\n 'idea': 323,\n 'nice': 324,\n 'black': 325,\n 'less': 326,\n 'mind': 327,\n 'simply': 328,\n 'read': 329,\n 'second': 330,\n 'else': 331,\n \"you're\": 332,\n 'father': 333,\n 'fan': 334,\n 'help': 335,\n 'poor': 336,\n 'completely': 337,\n 'death': 338,\n '3': 339,\n 'used': 340,\n 'home': 341,\n 'either': 342,\n 'short': 343,\n 'line': 344,\n 'given': 345,\n 'men': 346,\n 'top': 347,\n 'dead': 348,\n 'budget': 349,\n 'try': 350,\n 'performances': 351,\n 'wrong': 352,\n 'classic': 353,\n 'boring': 354,\n 'enjoy': 355,\n 'need': 356,\n 'rest': 357,\n 'use': 358,\n 'kids': 359,\n 'hollywood': 360,\n 'low': 361,\n 'production': 362,\n 'until': 363,\n 'along': 364,\n 'friends': 365,\n 'full': 366,\n 'camera': 367,\n 'truly': 368,\n 'women': 369,\n 'awful': 370,\n 'video': 371,\n 'next': 372,\n 'tell': 373,\n 'remember': 374,\n 'stupid': 375,\n 'couple': 376,\n 'start': 377,\n 'stars': 378,\n 'perhaps': 379,\n 'mean': 380,\n 'sex': 381,\n 'came': 382,\n 'recommend': 383,\n 'let': 384,\n 'moments': 385,\n 'wonderful': 386,\n 'episode': 387,\n 'understand': 388,\n 'small': 389,\n 'face': 390,\n 'terrible': 391,\n 'school': 392,\n 'playing': 393,\n 'getting': 394,\n 'written': 395,\n 'doing': 396,\n 'often': 397,\n 'keep': 398,\n 'early': 399,\n 'name': 400,\n 'perfect': 401,\n 'style': 402,\n 'human': 403,\n 'definitely': 404,\n 'gives': 405,\n 'others': 406,\n 'itself': 407,\n 'lines': 408,\n 'live': 409,\n 'become': 410,\n 'person': 411,\n 'dialogue': 412,\n 'lost': 413,\n 'finally': 414,\n 'piece': 415,\n 'head': 416,\n 'felt': 417,\n 'case': 418,\n 'yes': 419,\n 'supposed': 420,\n 'liked': 421,\n 'title': 422,\n \"couldn't\": 423,\n 'absolutely': 424,\n 'white': 425,\n 'against': 426,\n 'boy': 427,\n 'picture': 428,\n 'sort': 429,\n 'worse': 430,\n 'certainly': 431,\n 'went': 432,\n 'entire': 433,\n 'waste': 434,\n 'cinema': 435,\n 'problem': 436,\n 'hope': 437,\n \"she's\": 438,\n 'entertaining': 439,\n 'mr': 440,\n 'overall': 441,\n 'evil': 442,\n 'called': 443,\n 'loved': 444,\n 'based': 445,\n 'oh': 446,\n 'several': 447,\n 'fans': 448,\n 'mother': 449,\n 'drama': 450,\n 'beginning': 451,\n 'killer': 452,\n 'lives': 453,\n '5': 454,\n 'direction': 455,\n 'care': 456,\n 'becomes': 457,\n 'already': 458,\n 'laugh': 459,\n 'example': 460,\n 'friend': 461,\n 'dark': 462,\n 'despite': 463,\n 'under': 464,\n 'seemed': 465,\n 'throughout': 466,\n '4': 467,\n 'turn': 468,\n 'unfortunately': 469,\n 'wanted': 470,\n \"i'd\": 471,\n '\\x96': 472,\n 'children': 473,\n 'final': 474,\n 'fine': 475,\n 'history': 476,\n 'amazing': 477,\n 'sound': 478,\n 'guess': 479,\n 'heart': 480,\n 'totally': 481,\n 'lead': 482,\n 'humor': 483,\n 'writing': 484,\n 'michael': 485,\n 'quality': 486,\n \"you'll\": 487,\n 'close': 488,\n 'son': 489,\n 'guys': 490,\n 'wants': 491,\n 'works': 492,\n 'behind': 493,\n 'tries': 494,\n 'art': 495,\n 'side': 496,\n 'game': 497,\n 'past': 498,\n 'able': 499,\n 'b': 500,\n 'days': 501,\n 'turns': 502,\n \"they're\": 503,\n 'child': 504,\n 'hand': 505,\n 'flick': 506,\n 'enjoyed': 507,\n 'act': 508,\n 'genre': 509,\n 'town': 510,\n 'favorite': 511,\n 'soon': 512,\n 'kill': 513,\n 'starts': 514,\n 'sometimes': 515,\n 'gave': 516,\n 'car': 517,\n 'run': 518,\n 'late': 519,\n 'etc': 520,\n 'eyes': 521,\n 'actress': 522,\n 'directed': 523,\n 'horrible': 524,\n \"won't\": 525,\n 'viewer': 526,\n 'brilliant': 527,\n 'parts': 528,\n 'self': 529,\n 'themselves': 530,\n 'hour': 531,\n 'expect': 532,\n 'thinking': 533,\n 'stories': 534,\n 'stuff': 535,\n 'girls': 536,\n 'obviously': 537,\n 'blood': 538,\n 'decent': 539,\n 'city': 540,\n 'voice': 541,\n 'highly': 542,\n 'myself': 543,\n 'feeling': 544,\n 'fight': 545,\n 'except': 546,\n 'slow': 547,\n 'matter': 548,\n 'type': 549,\n 'anyway': 550,\n 'kid': 551,\n 'roles': 552,\n 'heard': 553,\n 'killed': 554,\n 'god': 555,\n 'says': 556,\n 'age': 557,\n 'moment': 558,\n 'took': 559,\n 'leave': 560,\n 'writer': 561,\n 'strong': 562,\n 'cannot': 563,\n 'violence': 564,\n 'police': 565,\n 'hit': 566,\n 'happens': 567,\n 'stop': 568,\n 'particularly': 569,\n 'known': 570,\n 'involved': 571,\n 'happened': 572,\n 'extremely': 573,\n 'obvious': 574,\n 'daughter': 575,\n 'told': 576,\n 'chance': 577,\n 'living': 578,\n 'coming': 579,\n 'lack': 580,\n 'alone': 581,\n 'experience': 582,\n \"wouldn't\": 583,\n 'including': 584,\n 'murder': 585,\n 'attempt': 586,\n 's': 587,\n 'please': 588,\n 'james': 589,\n 'happen': 590,\n 'wonder': 591,\n 'crap': 592,\n 'ago': 593,\n 'brother': 594,\n \"film's\": 595,\n 'gore': 596,\n 'complete': 597,\n 'none': 598,\n 'interest': 599,\n 'score': 600,\n 'group': 601,\n 'cut': 602,\n 'simple': 603,\n 'save': 604,\n 'hell': 605,\n 'ok': 606,\n 'looked': 607,\n 'career': 608,\n 'number': 609,\n 'song': 610,\n 'possible': 611,\n 'seriously': 612,\n 'annoying': 613,\n 'shown': 614,\n 'exactly': 615,\n 'sad': 616,\n 'running': 617,\n 'serious': 618,\n 'musical': 619,\n 'yourself': 620,\n 'taken': 621,\n 'released': 622,\n 'whose': 623,\n 'cinematography': 624,\n 'david': 625,\n 'scary': 626,\n 'ends': 627,\n 'usually': 628,\n 'hero': 629,\n 'english': 630,\n 'hours': 631,\n 'reality': 632,\n 'opening': 633,\n \"i'll\": 634,\n 'jokes': 635,\n 'across': 636,\n 'light': 637,\n 'today': 638,\n 'hilarious': 639,\n 'somewhat': 640,\n 'usual': 641,\n 'started': 642,\n 'ridiculous': 643,\n 'cool': 644,\n 'body': 645,\n 'level': 646,\n 'view': 647,\n 'relationship': 648,\n 'change': 649,\n 'opinion': 650,\n 'happy': 651,\n 'middle': 652,\n 'taking': 653,\n 'wish': 654,\n 'husband': 655,\n 'finds': 656,\n 'saying': 657,\n 'order': 658,\n 'ones': 659,\n 'talking': 660,\n 'documentary': 661,\n 'shots': 662,\n 'huge': 663,\n 'novel': 664,\n 'female': 665,\n 'mostly': 666,\n 'power': 667,\n 'robert': 668,\n 'episodes': 669,\n 'room': 670,\n 'important': 671,\n 'rating': 672,\n 'talent': 673,\n 'five': 674,\n 'major': 675,\n 'strange': 676,\n 'turned': 677,\n 'word': 678,\n 'modern': 679,\n 'call': 680,\n 'apparently': 681,\n 'single': 682,\n 'disappointed': 683,\n 'events': 684,\n 'due': 685,\n 'four': 686,\n 'songs': 687,\n 'attention': 688,\n 'basically': 689,\n '7': 690,\n 'knows': 691,\n 'clearly': 692,\n 'supporting': 693,\n 'knew': 694,\n 'comic': 695,\n 'non': 696,\n 'television': 697,\n 'british': 698,\n 'earth': 699,\n 'fast': 700,\n 'country': 701,\n 'cheap': 702,\n 'class': 703,\n 'future': 704,\n 'silly': 705,\n 'thriller': 706,\n '8': 707,\n 'king': 708,\n 'problems': 709,\n \"aren't\": 710,\n 'easily': 711,\n 'words': 712,\n 'tells': 713,\n 'miss': 714,\n 'jack': 715,\n 'local': 716,\n 'sequence': 717,\n 'entertainment': 718,\n 'bring': 719,\n 'paul': 720,\n 'beyond': 721,\n 'upon': 722,\n 'whether': 723,\n 'predictable': 724,\n 'moving': 725,\n 'sets': 726,\n 'straight': 727,\n 'similar': 728,\n 'romantic': 729,\n 'review': 730,\n 'oscar': 731,\n 'falls': 732,\n 'mystery': 733,\n 'enjoyable': 734,\n 'appears': 735,\n 'needs': 736,\n 'rock': 737,\n 'talk': 738,\n 'george': 739,\n 'giving': 740,\n 'eye': 741,\n 'within': 742,\n 'richard': 743,\n 'ten': 744,\n 'animation': 745,\n 'message': 746,\n 'theater': 747,\n 'near': 748,\n 'above': 749,\n 'dull': 750,\n 'nearly': 751,\n 'sequel': 752,\n 'points': 753,\n 'theme': 754,\n 'stand': 755,\n \"'\": 756,\n 'mention': 757,\n 'lady': 758,\n 'add': 759,\n 'bunch': 760,\n 'feels': 761,\n 'herself': 762,\n 'release': 763,\n 'red': 764,\n 'team': 765,\n 'storyline': 766,\n 'surprised': 767,\n 'ways': 768,\n 'using': 769,\n 'named': 770,\n \"haven't\": 771,\n 'lots': 772,\n 'easy': 773,\n 'fantastic': 774,\n 'begins': 775,\n 'actual': 776,\n 'working': 777,\n 'effort': 778,\n 'york': 779,\n 'die': 780,\n 'hate': 781,\n 'french': 782,\n 'minute': 783,\n 'tale': 784,\n 'clear': 785,\n '9': 786,\n 'stay': 787,\n 'elements': 788,\n 'feature': 789,\n 'follow': 790,\n 'among': 791,\n 're': 792,\n 'comments': 793,\n 'avoid': 794,\n 'viewers': 795,\n 'sister': 796,\n 'typical': 797,\n 'showing': 798,\n 'editing': 799,\n 'famous': 800,\n 'tried': 801,\n \"what's\": 802,\n 'sorry': 803,\n 'dialog': 804,\n 'fall': 805,\n 'check': 806,\n 'period': 807,\n 'form': 808,\n 'season': 809,\n 'certain': 810,\n 'filmed': 811,\n 'weak': 812,\n 'soundtrack': 813,\n 'means': 814,\n 'material': 815,\n 'buy': 816,\n 'somehow': 817,\n 'realistic': 818,\n 'crime': 819,\n 'figure': 820,\n 'gone': 821,\n 'doubt': 822,\n 'peter': 823,\n 'tom': 824,\n 'viewing': 825,\n 'kept': 826,\n 't': 827,\n 'general': 828,\n 'leads': 829,\n 'greatest': 830,\n 'space': 831,\n 'lame': 832,\n 'dance': 833,\n 'suspense': 834,\n 'imagine': 835,\n 'brought': 836,\n 'third': 837,\n 'atmosphere': 838,\n 'hear': 839,\n 'particular': 840,\n 'whatever': 841,\n 'sequences': 842,\n 'parents': 843,\n 'lee': 844,\n 'move': 845,\n 'indeed': 846,\n 'rent': 847,\n 'eventually': 848,\n 'learn': 849,\n 'de': 850,\n 'note': 851,\n 'reviews': 852,\n 'average': 853,\n 'wait': 854,\n 'forget': 855,\n 'deal': 856,\n 'japanese': 857,\n 'poorly': 858,\n 'sexual': 859,\n 'premise': 860,\n 'okay': 861,\n 'zombie': 862,\n 'surprise': 863,\n 'believable': 864,\n 'stage': 865,\n 'possibly': 866,\n 'sit': 867,\n \"who's\": 868,\n 'decided': 869,\n 'expected': 870,\n \"you've\": 871,\n 'subject': 872,\n 'nature': 873,\n 'became': 874,\n 'free': 875,\n 'difficult': 876,\n 'screenplay': 877,\n 'killing': 878,\n 'truth': 879,\n 'romance': 880,\n 'dr': 881,\n 'nor': 882,\n 'reading': 883,\n 'needed': 884,\n 'question': 885,\n 'leaves': 886,\n 'street': 887,\n '20': 888,\n 'meets': 889,\n 'hot': 890,\n 'begin': 891,\n 'unless': 892,\n 'baby': 893,\n 'otherwise': 894,\n 'imdb': 895,\n 'credits': 896,\n 'superb': 897,\n 'write': 898,\n 'shame': 899,\n \"let's\": 900,\n 'dramatic': 901,\n 'situation': 902,\n 'memorable': 903,\n 'directors': 904,\n 'earlier': 905,\n 'badly': 906,\n 'disney': 907,\n 'open': 908,\n 'meet': 909,\n 'dog': 910,\n 'joe': 911,\n 'weird': 912,\n 'male': 913,\n 'acted': 914,\n 'forced': 915,\n 'emotional': 916,\n 'laughs': 917,\n 'sci': 918,\n 'older': 919,\n 'realize': 920,\n 'dream': 921,\n 'fi': 922,\n 'society': 923,\n 'writers': 924,\n 'interested': 925,\n 'forward': 926,\n 'comment': 927,\n 'footage': 928,\n 'crazy': 929,\n 'deep': 930,\n 'beauty': 931,\n 'whom': 932,\n 'america': 933,\n 'plus': 934,\n 'sounds': 935,\n 'fantasy': 936,\n 'directing': 937,\n 'keeps': 938,\n 'development': 939,\n 'ask': 940,\n 'features': 941,\n 'air': 942,\n 'quickly': 943,\n 'mess': 944,\n 'creepy': 945,\n 'perfectly': 946,\n 'towards': 947,\n 'mark': 948,\n 'worked': 949,\n 'box': 950,\n 'cheesy': 951,\n 'unique': 952,\n 'hands': 953,\n 'setting': 954,\n 'plenty': 955,\n 'result': 956,\n 'brings': 957,\n 'previous': 958,\n 'e': 959,\n 'total': 960,\n 'effect': 961,\n 'incredibly': 962,\n 'personal': 963,\n 'monster': 964,\n 'fire': 965,\n 'rate': 966,\n 'business': 967,\n 'apart': 968,\n 'casting': 969,\n 'leading': 970,\n 'admit': 971,\n 'appear': 972,\n 'background': 973,\n 'joke': 974,\n 'powerful': 975,\n 'telling': 976,\n 'girlfriend': 977,\n 'meant': 978,\n 'present': 979,\n 'hardly': 980,\n 'christmas': 981,\n 'battle': 982,\n 'potential': 983,\n 'create': 984,\n 'break': 985,\n 'bill': 986,\n 'pay': 987,\n 'masterpiece': 988,\n 'dumb': 989,\n 'political': 990,\n 'return': 991,\n 'gay': 992,\n 'fails': 993,\n 'fighting': 994,\n 'various': 995,\n 'portrayed': 996,\n 'era': 997,\n 'co': 998,\n 'cop': 999,\n 'secret': 1000,\n ...}"
      ]
     },
     "execution_count": 12,
     "metadata": {},
     "output_type": "execute_result"
    }
   ],
   "source": [
    "word_index"
   ]
  },
  {
   "cell_type": "code",
   "execution_count": 5,
   "metadata": {},
   "outputs": [],
   "source": [
    "len(embedding_index['the'])\n",
    "# 即词向量的维度\n",
    "embedding_dim = 100\n",
    "\n",
    "embedding_matrix = np.zeros((max_words, embedding_dim))\n",
    "for word, i in word_index.items():\n",
    "    if i < max_words:\n",
    "        embedding_vector = embedding_index.get(word)\n",
    "        if embedding_vector is not None:\n",
    "            embedding_matrix[i] = embedding_vector\n"
   ]
  },
  {
   "cell_type": "code",
   "execution_count": 6,
   "metadata": {},
   "outputs": [
    {
     "data": {
      "text/plain": [
       "array([[ 0.        ,  0.        ,  0.        , ...,  0.        ,\n         0.        ,  0.        ],\n       [-0.038194  , -0.24487001,  0.72812003, ..., -0.1459    ,\n         0.82779998,  0.27061999],\n       [-0.071953  ,  0.23127   ,  0.023731  , ..., -0.71894997,\n         0.86894   ,  0.19539   ],\n       ...,\n       [ 0.83069998,  0.036287  ,  0.33054   , ..., -0.64990997,\n         0.18334   ,  0.27353999],\n       [ 1.15460002,  0.74304003,  0.17122   , ...,  0.46252999,\n         0.24988   ,  0.27217999],\n       [ 0.34391001, -0.32934999, -0.30296001, ...,  0.45280001,\n         1.00779998, -0.41260999]])"
      ]
     },
     "execution_count": 6,
     "metadata": {},
     "output_type": "execute_result"
    }
   ],
   "source": [
    "embedding_matrix"
   ]
  },
  {
   "cell_type": "code",
   "execution_count": 7,
   "metadata": {},
   "outputs": [
    {
     "name": "stdout",
     "output_type": "stream",
     "text": [
      "_________________________________________________________________\nLayer (type)                 Output Shape              Param #   \n=================================================================\nembedding_1 (Embedding)      (None, 100, 100)          1000000   \n_________________________________________________________________\nflatten_1 (Flatten)          (None, 10000)             0         \n_________________________________________________________________\ndense_1 (Dense)              (None, 32)                320032    \n_________________________________________________________________\ndense_2 (Dense)              (None, 1)                 33        \n=================================================================\nTotal params: 1,320,065\nTrainable params: 1,320,065\nNon-trainable params: 0\n_________________________________________________________________\n"
     ]
    }
   ],
   "source": [
    "from keras.models import Sequential\n",
    "from keras.layers import Embedding, Flatten, Dense\n",
    "\n",
    "model = Sequential()\n",
    "model.add(Embedding(max_words, embedding_dim, input_length=max_len))\n",
    "model.add(Flatten())\n",
    "model.add(Dense(32, activation='relu'))\n",
    "model.add(Dense(1, activation='sigmoid'))\n",
    "model.summary()\n"
   ]
  },
  {
   "cell_type": "code",
   "execution_count": 8,
   "metadata": {},
   "outputs": [],
   "source": [
    "model.layers[0].set_weights([embedding_matrix])\n",
    "model.layers[0].trainable = False\n"
   ]
  },
  {
   "cell_type": "code",
   "execution_count": 9,
   "metadata": {},
   "outputs": [
    {
     "name": "stdout",
     "output_type": "stream",
     "text": [
      "Train on 200 samples, validate on 10000 samples\nEpoch 1/10\n"
     ]
    },
    {
     "name": "stdout",
     "output_type": "stream",
     "text": [
      "\r 32/200 [===>..........................] - ETA: 7s - loss: 0.7892 - acc: 0.5312"
     ]
    },
    {
     "name": "stdout",
     "output_type": "stream",
     "text": [
      "\b\b\b\b\b\b\b\b\b\b\b\b\b\b\b\b\b\b\b\b\b\b\b\b\b\b\b\b\b\b\b\b\b\b\b\b\b\b\b\b\b\b\b\b\b\b\b\b\b\b\b\b\b\b\b\b\b\b\b\b\b\b\b\b\b\b\b\b\b\b\b\b\b\b\b\b\b\b\b\r160/200 [=======================>......] - ETA: 0s - loss: 2.4106 - acc: 0.5188"
     ]
    },
    {
     "name": "stdout",
     "output_type": "stream",
     "text": [
      "\b\b\b\b\b\b\b\b\b\b\b\b\b\b\b\b\b\b\b\b\b\b\b\b\b\b\b\b\b\b\b\b\b\b\b\b\b\b\b\b\b\b\b\b\b\b\b\b\b\b\b\b\b\b\b\b\b\b\b\b\b\b\b\b\b\b\b\b\b\b\b\b\b\b\b\b\b\b\b\r200/200 [==============================] - 2s 9ms/step - loss: 2.0809 - acc: 0.5200 - val_loss: 0.7526 - val_acc: 0.4996\n"
     ]
    },
    {
     "name": "stdout",
     "output_type": "stream",
     "text": [
      "Epoch 2/10\n\r 32/200 [===>..........................] - ETA: 0s - loss: 0.6409 - acc: 0.6250"
     ]
    },
    {
     "name": "stdout",
     "output_type": "stream",
     "text": [
      "\b\b\b\b\b\b\b\b\b\b\b\b\b\b\b\b\b\b\b\b\b\b\b\b\b\b\b\b\b\b\b\b\b\b\b\b\b\b\b\b\b\b\b\b\b\b\b\b\b\b\b\b\b\b\b\b\b\b\b\b\b\b\b\b\b\b\b\b\b\b\b\b\b\b\b\b\b\b\b\r200/200 [==============================] - 0s 2ms/step - loss: 0.5414 - acc: 0.6950 - val_loss: 0.7749 - val_acc: 0.5027\n"
     ]
    },
    {
     "name": "stdout",
     "output_type": "stream",
     "text": [
      "Epoch 3/10\n\r 32/200 [===>..........................] - ETA: 0s - loss: 0.3926 - acc: 0.8750"
     ]
    },
    {
     "name": "stdout",
     "output_type": "stream",
     "text": [
      "\b\b\b\b\b\b\b\b\b\b\b\b\b\b\b\b\b\b\b\b\b\b\b\b\b\b\b\b\b\b\b\b\b\b\b\b\b\b\b\b\b\b\b\b\b\b\b\b\b\b\b\b\b\b\b\b\b\b\b\b\b\b\b\b\b\b\b\b\b\b\b\b\b\b\b\b\b\b\b\r200/200 [==============================] - 0s 2ms/step - loss: 0.3640 - acc: 0.8400 - val_loss: 0.7654 - val_acc: 0.4947\n"
     ]
    },
    {
     "name": "stdout",
     "output_type": "stream",
     "text": [
      "Epoch 4/10\n\r 32/200 [===>..........................] - ETA: 0s - loss: 0.1839 - acc: 1.0000"
     ]
    },
    {
     "name": "stdout",
     "output_type": "stream",
     "text": [
      "\b\b\b\b\b\b\b\b\b\b\b\b\b\b\b\b\b\b\b\b\b\b\b\b\b\b\b\b\b\b\b\b\b\b\b\b\b\b\b\b\b\b\b\b\b\b\b\b\b\b\b\b\b\b\b\b\b\b\b\b\b\b\b\b\b\b\b\b\b\b\b\b\b\b\b\b\b\b\b\r200/200 [==============================] - 0s 2ms/step - loss: 0.6854 - acc: 0.7800 - val_loss: 0.8713 - val_acc: 0.5005\n"
     ]
    },
    {
     "name": "stdout",
     "output_type": "stream",
     "text": [
      "Epoch 5/10\n\r 32/200 [===>..........................] - ETA: 0s - loss: 0.1672 - acc: 0.9688"
     ]
    },
    {
     "name": "stdout",
     "output_type": "stream",
     "text": [
      "\b\b\b\b\b\b\b\b\b\b\b\b\b\b\b\b\b\b\b\b\b\b\b\b\b\b\b\b\b\b\b\b\b\b\b\b\b\b\b\b\b\b\b\b\b\b\b\b\b\b\b\b\b\b\b\b\b\b\b\b\b\b\b\b\b\b\b\b\b\b\b\b\b\b\b\b\b\b\b\r200/200 [==============================] - 0s 2ms/step - loss: 0.2028 - acc: 0.9450 - val_loss: 0.8370 - val_acc: 0.5022\n"
     ]
    },
    {
     "name": "stdout",
     "output_type": "stream",
     "text": [
      "Epoch 6/10\n\r 32/200 [===>..........................] - ETA: 0s - loss: 0.1506 - acc: 1.0000"
     ]
    },
    {
     "name": "stdout",
     "output_type": "stream",
     "text": [
      "\b\b\b\b\b\b\b\b\b\b\b\b\b\b\b\b\b\b\b\b\b\b\b\b\b\b\b\b\b\b\b\b\b\b\b\b\b\b\b\b\b\b\b\b\b\b\b\b\b\b\b\b\b\b\b\b\b\b\b\b\b\b\b\b\b\b\b\b\b\b\b\b\b\b\b\b\b\b\b\r200/200 [==============================] - 0s 2ms/step - loss: 0.1112 - acc: 1.0000 - val_loss: 1.6587 - val_acc: 0.4995\n"
     ]
    },
    {
     "name": "stdout",
     "output_type": "stream",
     "text": [
      "Epoch 7/10\n\r 32/200 [===>..........................] - ETA: 0s - loss: 0.4370 - acc: 0.7188"
     ]
    },
    {
     "name": "stdout",
     "output_type": "stream",
     "text": [
      "\b\b\b\b\b\b\b\b\b\b\b\b\b\b\b\b\b\b\b\b\b\b\b\b\b\b\b\b\b\b\b\b\b\b\b\b\b\b\b\b\b\b\b\b\b\b\b\b\b\b\b\b\b\b\b\b\b\b\b\b\b\b\b\b\b\b\b\b\b\b\b\b\b\b\b\b\b\b\b\r200/200 [==============================] - 0s 2ms/step - loss: 0.1719 - acc: 0.9250 - val_loss: 0.8099 - val_acc: 0.5081\n"
     ]
    },
    {
     "name": "stdout",
     "output_type": "stream",
     "text": [
      "Epoch 8/10\n\r 32/200 [===>..........................] - ETA: 0s - loss: 0.0416 - acc: 1.0000"
     ]
    },
    {
     "name": "stdout",
     "output_type": "stream",
     "text": [
      "\b\b\b\b\b\b\b\b\b\b\b\b\b\b\b\b\b\b\b\b\b\b\b\b\b\b\b\b\b\b\b\b\b\b\b\b\b\b\b\b\b\b\b\b\b\b\b\b\b\b\b\b\b\b\b\b\b\b\b\b\b\b\b\b\b\b\b\b\b\b\b\b\b\b\b\b\b\b\b\r200/200 [==============================] - 0s 2ms/step - loss: 0.0602 - acc: 1.0000 - val_loss: 0.8469 - val_acc: 0.5072\n"
     ]
    },
    {
     "name": "stdout",
     "output_type": "stream",
     "text": [
      "Epoch 9/10\n\r 32/200 [===>..........................] - ETA: 0s - loss: 0.0328 - acc: 1.0000"
     ]
    },
    {
     "name": "stdout",
     "output_type": "stream",
     "text": [
      "\b\b\b\b\b\b\b\b\b\b\b\b\b\b\b\b\b\b\b\b\b\b\b\b\b\b\b\b\b\b\b\b\b\b\b\b\b\b\b\b\b\b\b\b\b\b\b\b\b\b\b\b\b\b\b\b\b\b\b\b\b\b\b\b\b\b\b\b\b\b\b\b\b\b\b\b\b\b\b\r200/200 [==============================] - 0s 2ms/step - loss: 0.0337 - acc: 1.0000 - val_loss: 0.8449 - val_acc: 0.5081\n"
     ]
    },
    {
     "name": "stdout",
     "output_type": "stream",
     "text": [
      "Epoch 10/10\n\r 32/200 [===>..........................] - ETA: 0s - loss: 0.0225 - acc: 1.0000"
     ]
    },
    {
     "name": "stdout",
     "output_type": "stream",
     "text": [
      "\b\b\b\b\b\b\b\b\b\b\b\b\b\b\b\b\b\b\b\b\b\b\b\b\b\b\b\b\b\b\b\b\b\b\b\b\b\b\b\b\b\b\b\b\b\b\b\b\b\b\b\b\b\b\b\b\b\b\b\b\b\b\b\b\b\b\b\b\b\b\b\b\b\b\b\b\b\b\b\r200/200 [==============================] - 0s 2ms/step - loss: 0.3055 - acc: 0.8800 - val_loss: 1.1429 - val_acc: 0.5000\n"
     ]
    }
   ],
   "source": [
    "model.compile(optimizer='rmsprop',\n",
    "              loss='binary_crossentropy',\n",
    "              metrics=['acc'])\n",
    "history = model.fit(x_train, y_train, epochs=10, batch_size=32,\n",
    "                    validation_data=(x_val, y_val))\n",
    "\n",
    "model.save_weights('/home/steve/PycharmProjects/AI_Learning/Python深度学习/model/pre_trained_glove_model.h5')\n"
   ]
  },
  {
   "cell_type": "code",
   "execution_count": 10,
   "metadata": {},
   "outputs": [],
   "source": [
    "test_dir = os.path.join(imdb_dir, 'test')\n",
    "labels = []\n",
    "texts = []\n",
    "\n",
    "for label_type in ['neg', 'pos']:\n",
    "    dir_name = os.path.join(test_dir, label_type)\n",
    "    for fname in sorted(os.listdir(dir_name)):\n",
    "        f = open(os.path.join(dir_name, fname))\n",
    "        texts.append(f.read())\n",
    "        f.close()\n",
    "        if label_type == 'neg':\n",
    "            labels.append(0)\n",
    "        else:\n",
    "            labels.append(1)\n",
    "\n",
    "sequences = tokenizer.texts_to_sequences(texts)\n",
    "x_test = pad_sequences(sequences, maxlen=max_len)\n",
    "y_test = np.asarray(labels)\n"
   ]
  },
  {
   "cell_type": "code",
   "execution_count": 12,
   "metadata": {},
   "outputs": [
    {
     "name": "stdout",
     "output_type": "stream",
     "text": [
      "\r   32/25000 [..............................] - ETA: 2s"
     ]
    },
    {
     "name": "stdout",
     "output_type": "stream",
     "text": [
      "\b\b\b\b\b\b\b\b\b\b\b\b\b\b\b\b\b\b\b\b\b\b\b\b\b\b\b\b\b\b\b\b\b\b\b\b\b\b\b\b\b\b\b\b\b\b\b\b\b\b\b\b\b\b\r 1024/25000 [>.............................] - ETA: 1s"
     ]
    },
    {
     "name": "stdout",
     "output_type": "stream",
     "text": [
      "\b\b\b\b\b\b\b\b\b\b\b\b\b\b\b\b\b\b\b\b\b\b\b\b\b\b\b\b\b\b\b\b\b\b\b\b\b\b\b\b\b\b\b\b\b\b\b\b\b\b\b\b\b\b\r 1760/25000 [=>............................] - ETA: 1s"
     ]
    },
    {
     "name": "stdout",
     "output_type": "stream",
     "text": [
      "\b\b\b\b\b\b\b\b\b\b\b\b\b\b\b\b\b\b\b\b\b\b\b\b\b\b\b\b\b\b\b\b\b\b\b\b\b\b\b\b\b\b\b\b\b\b\b\b\b\b\b\b\b\b\r 2656/25000 [==>...........................] - ETA: 1s"
     ]
    },
    {
     "name": "stdout",
     "output_type": "stream",
     "text": [
      "\b\b\b\b\b\b\b\b\b\b\b\b\b\b\b\b\b\b\b\b\b\b\b\b\b\b\b\b\b\b\b\b\b\b\b\b\b\b\b\b\b\b\b\b\b\b\b\b\b\b\b\b\b\b\r 3744/25000 [===>..........................] - ETA: 1s"
     ]
    },
    {
     "name": "stdout",
     "output_type": "stream",
     "text": [
      "\b\b\b\b\b\b\b\b\b\b\b\b\b\b\b\b\b\b\b\b\b\b\b\b\b\b\b\b\b\b\b\b\b\b\b\b\b\b\b\b\b\b\b\b\b\b\b\b\b\b\b\b\b\b\r 4832/25000 [====>.........................] - ETA: 1s"
     ]
    },
    {
     "name": "stdout",
     "output_type": "stream",
     "text": [
      "\b\b\b\b\b\b\b\b\b\b\b\b\b\b\b\b\b\b\b\b\b\b\b\b\b\b\b\b\b\b\b\b\b\b\b\b\b\b\b\b\b\b\b\b\b\b\b\b\b\b\b\b\b\b\r 5952/25000 [======>.......................] - ETA: 0s"
     ]
    },
    {
     "name": "stdout",
     "output_type": "stream",
     "text": [
      "\b\b\b\b\b\b\b\b\b\b\b\b\b\b\b\b\b\b\b\b\b\b\b\b\b\b\b\b\b\b\b\b\b\b\b\b\b\b\b\b\b\b\b\b\b\b\b\b\b\b\b\b\b\b\r 7136/25000 [=======>......................] - ETA: 0s"
     ]
    },
    {
     "name": "stdout",
     "output_type": "stream",
     "text": [
      "\b\b\b\b\b\b\b\b\b\b\b\b\b\b\b\b\b\b\b\b\b\b\b\b\b\b\b\b\b\b\b\b\b\b\b\b\b\b\b\b\b\b\b\b\b\b\b\b\b\b\b\b\b\b\r 8064/25000 [========>.....................] - ETA: 0s"
     ]
    },
    {
     "name": "stdout",
     "output_type": "stream",
     "text": [
      "\b\b\b\b\b\b\b\b\b\b\b\b\b\b\b\b\b\b\b\b\b\b\b\b\b\b\b\b\b\b\b\b\b\b\b\b\b\b\b\b\b\b\b\b\b\b\b\b\b\b\b\b\b\b\r 9248/25000 [==========>...................] - ETA: 0s"
     ]
    },
    {
     "name": "stdout",
     "output_type": "stream",
     "text": [
      "\b\b\b\b\b\b\b\b\b\b\b\b\b\b\b\b\b\b\b\b\b\b\b\b\b\b\b\b\b\b\b\b\b\b\b\b\b\b\b\b\b\b\b\b\b\b\b\b\b\b\b\b\b\b\r10304/25000 [===========>..................] - ETA: 0s"
     ]
    },
    {
     "name": "stdout",
     "output_type": "stream",
     "text": [
      "\b\b\b\b\b\b\b\b\b\b\b\b\b\b\b\b\b\b\b\b\b\b\b\b\b\b\b\b\b\b\b\b\b\b\b\b\b\b\b\b\b\b\b\b\b\b\b\b\b\b\b\b\b\b\r11456/25000 [============>.................] - ETA: 0s"
     ]
    },
    {
     "name": "stdout",
     "output_type": "stream",
     "text": [
      "\b\b\b\b\b\b\b\b\b\b\b\b\b\b\b\b\b\b\b\b\b\b\b\b\b\b\b\b\b\b\b\b\b\b\b\b\b\b\b\b\b\b\b\b\b\b\b\b\b\b\b\b\b\b\r12672/25000 [==============>...............] - ETA: 0s"
     ]
    },
    {
     "name": "stdout",
     "output_type": "stream",
     "text": [
      "\b\b\b\b\b\b\b\b\b\b\b\b\b\b\b\b\b\b\b\b\b\b\b\b\b\b\b\b\b\b\b\b\b\b\b\b\b\b\b\b\b\b\b\b\b\b\b\b\b\b\b\b\b\b\r13856/25000 [===============>..............] - ETA: 0s"
     ]
    },
    {
     "name": "stdout",
     "output_type": "stream",
     "text": [
      "\b\b\b\b\b\b\b\b\b\b\b\b\b\b\b\b\b\b\b\b\b\b\b\b\b\b\b\b\b\b\b\b\b\b\b\b\b\b\b\b\b\b\b\b\b\b\b\b\b\b\b\b\b\b\r14848/25000 [================>.............] - ETA: 0s"
     ]
    },
    {
     "name": "stdout",
     "output_type": "stream",
     "text": [
      "\b\b\b\b\b\b\b\b\b\b\b\b\b\b\b\b\b\b\b\b\b\b\b\b\b\b\b\b\b\b\b\b\b\b\b\b\b\b\b\b\b\b\b\b\b\b\b\b\b\b\b\b\b\b\r15808/25000 [=================>............] - ETA: 0s"
     ]
    },
    {
     "name": "stdout",
     "output_type": "stream",
     "text": [
      "\b\b\b\b\b\b\b\b\b\b\b\b\b\b\b\b\b\b\b\b\b\b\b\b\b\b\b\b\b\b\b\b\b\b\b\b\b\b\b\b\b\b\b\b\b\b\b\b\b\b\b\b\b\b\r16960/25000 [===================>..........] - ETA: 0s"
     ]
    },
    {
     "name": "stdout",
     "output_type": "stream",
     "text": [
      "\b\b\b\b\b\b\b\b\b\b\b\b\b\b\b\b\b\b\b\b\b\b\b\b\b\b\b\b\b\b\b\b\b\b\b\b\b\b\b\b\b\b\b\b\b\b\b\b\b\b\b\b\b\b\r18016/25000 [====================>.........] - ETA: 0s"
     ]
    },
    {
     "name": "stdout",
     "output_type": "stream",
     "text": [
      "\b\b\b\b\b\b\b\b\b\b\b\b\b\b\b\b\b\b\b\b\b\b\b\b\b\b\b\b\b\b\b\b\b\b\b\b\b\b\b\b\b\b\b\b\b\b\b\b\b\b\b\b\b\b\r19104/25000 [=====================>........] - ETA: 0s"
     ]
    },
    {
     "name": "stdout",
     "output_type": "stream",
     "text": [
      "\b\b\b\b\b\b\b\b\b\b\b\b\b\b\b\b\b\b\b\b\b\b\b\b\b\b\b\b\b\b\b\b\b\b\b\b\b\b\b\b\b\b\b\b\b\b\b\b\b\b\b\b\b\b\r20192/25000 [=======================>......] - ETA: 0s"
     ]
    },
    {
     "name": "stdout",
     "output_type": "stream",
     "text": [
      "\b\b\b\b\b\b\b\b\b\b\b\b\b\b\b\b\b\b\b\b\b\b\b\b\b\b\b\b\b\b\b\b\b\b\b\b\b\b\b\b\b\b\b\b\b\b\b\b\b\b\b\b\b\b\r21248/25000 [========================>.....] - ETA: 0s"
     ]
    },
    {
     "name": "stdout",
     "output_type": "stream",
     "text": [
      "\b\b\b\b\b\b\b\b\b\b\b\b\b\b\b\b\b\b\b\b\b\b\b\b\b\b\b\b\b\b\b\b\b\b\b\b\b\b\b\b\b\b\b\b\b\b\b\b\b\b\b\b\b\b\r22336/25000 [=========================>....] - ETA: 0s"
     ]
    },
    {
     "name": "stdout",
     "output_type": "stream",
     "text": [
      "\b\b\b\b\b\b\b\b\b\b\b\b\b\b\b\b\b\b\b\b\b\b\b\b\b\b\b\b\b\b\b\b\b\b\b\b\b\b\b\b\b\b\b\b\b\b\b\b\b\b\b\b\b\b\r23456/25000 [===========================>..] - ETA: 0s"
     ]
    },
    {
     "name": "stdout",
     "output_type": "stream",
     "text": [
      "\b\b\b\b\b\b\b\b\b\b\b\b\b\b\b\b\b\b\b\b\b\b\b\b\b\b\b\b\b\b\b\b\b\b\b\b\b\b\b\b\b\b\b\b\b\b\b\b\b\b\b\b\b\b\r24512/25000 [============================>.] - ETA: 0s"
     ]
    },
    {
     "name": "stdout",
     "output_type": "stream",
     "text": [
      "\b\b\b\b\b\b\b\b\b\b\b\b\b\b\b\b\b\b\b\b\b\b\b\b\b\b\b\b\b\b\b\b\b\b\b\b\b\b\b\b\b\b\b\b\b\b\b\b\b\b\b\b\b\b\r25000/25000 [==============================] - 1s 48us/step\n"
     ]
    },
    {
     "data": {
      "text/plain": [
       "[1.1375577805900574, 0.50472]"
      ]
     },
     "execution_count": 12,
     "metadata": {},
     "output_type": "execute_result"
    }
   ],
   "source": [
    "model.load_weights('/home/steve/PycharmProjects/AI_Learning/Python深度学习/model/pre_trained_glove_model.h5')\n",
    "model.evaluate(x_test, y_test)\n"
   ]
  },
  {
   "cell_type": "code",
   "execution_count": null,
   "metadata": {},
   "outputs": [],
   "source": []
  }
 ],
 "metadata": {
  "kernelspec": {
   "display_name": "Python 2",
   "language": "python",
   "name": "python2"
  },
  "language_info": {
   "codemirror_mode": {
    "name": "ipython",
    "version": 2
   },
   "file_extension": ".py",
   "mimetype": "text/x-python",
   "name": "python",
   "nbconvert_exporter": "python",
   "pygments_lexer": "ipython2",
   "version": "2.7.6"
  }
 },
 "nbformat": 4,
 "nbformat_minor": 0
}
