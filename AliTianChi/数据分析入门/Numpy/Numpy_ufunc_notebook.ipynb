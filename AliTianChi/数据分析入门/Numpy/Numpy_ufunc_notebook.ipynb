{
 "cells": [
  {
   "cell_type": "code",
   "execution_count": 1,
   "metadata": {
    "collapsed": true
   },
   "outputs": [],
   "source": [
    "import numpy as np"
   ]
  },
  {
   "cell_type": "code",
   "execution_count": 2,
   "metadata": {},
   "outputs": [
    {
     "name": "stdout",
     "output_type": "stream",
     "text": [
      "==========\n[0.         1.         1.41421356 1.73205081 2.         2.23606798\n 2.44948974 2.64575131 2.82842712 3.        ]\n==========\n[1.00000000e+00 2.71828183e+00 7.38905610e+00 2.00855369e+01\n 5.45981500e+01 1.48413159e+02 4.03428793e+02 1.09663316e+03\n 2.98095799e+03 8.10308393e+03]\n"
     ]
    }
   ],
   "source": [
    "arr = np.arange(10)\n",
    "print(10*'=')\n",
    "print(np.sqrt(arr))\n",
    "print(10*'=')\n",
    "print(np.exp(arr))\n"
   ]
  },
  {
   "cell_type": "code",
   "execution_count": 3,
   "metadata": {},
   "outputs": [
    {
     "name": "stdout",
     "output_type": "stream",
     "text": [
      "[ 1.38129563  0.20695289 -0.72002074  0.30942986 -1.78958795 -0.65612325\n -0.11212387 -0.87555803]\n==========\n[-0.16745332 -0.53212308 -1.80146662 -0.26755979  0.23853116  0.52770828\n -0.30958192  0.73030955]\n==========\n[ 1.38129563  0.20695289 -0.72002074  0.30942986  0.23853116  0.52770828\n -0.11212387  0.73030955]\n==========\n[ 1.2138423  -0.32517019 -2.52148736  0.04187008 -1.55105679 -0.12841497\n -0.42170579 -0.14524848]\n"
     ]
    }
   ],
   "source": [
    "x = np.random.randn(8)\n",
    "y = np.random.randn(8)\n",
    "print(x)\n",
    "print(10 * '=')\n",
    "print(y)\n",
    "print(10 * '=')\n",
    "print(np.maximum(x, y))\n",
    "print(10 * '=')\n",
    "print(np.add(x, y))\n"
   ]
  },
  {
   "cell_type": "code",
   "execution_count": 4,
   "metadata": {},
   "outputs": [
    {
     "name": "stdout",
     "output_type": "stream",
     "text": [
      "[-2.21578411 -2.25723458  0.67069306  3.49679491  1.53356331 14.41398207\n -4.05650513]\n==========\n[-0.21578411 -0.25723458  0.67069306  0.49679491  0.53356331  0.41398207\n -0.05650513]\n==========\n[-2. -2.  0.  3.  1. 14. -4.]\n"
     ]
    }
   ],
   "source": [
    "arr = np.random.randn(7) * 5\n",
    "print(arr)\n",
    "print(10 * '=')\n",
    "remainder, whole_part = np.modf(arr)\n",
    "print(remainder)\n",
    "print(10 * '=')\n",
    "print(whole_part)\n"
   ]
  },
  {
   "cell_type": "code",
   "execution_count": 5,
   "metadata": {},
   "outputs": [
    {
     "name": "stdout",
     "output_type": "stream",
     "text": [
      "[-2.21578411 -2.25723458  0.67069306  3.49679491  1.53356331 14.41398207\n -4.05650513]\n==========\n[       nan        nan 0.81895852 1.8699719  1.23837123 3.79657504\n        nan]\n==========\n[       nan        nan 0.81895852 1.8699719  1.23837123 3.79657504\n        nan]\n[       nan        nan 0.81895852 1.8699719  1.23837123 3.79657504\n        nan]\n"
     ]
    },
    {
     "name": "stderr",
     "output_type": "stream",
     "text": [
      "/home/steve/.local/lib/python3.6/site-packages/ipykernel_launcher.py:3: RuntimeWarning: invalid value encountered in sqrt\n  This is separate from the ipykernel package so we can avoid doing imports until\n/home/steve/.local/lib/python3.6/site-packages/ipykernel_launcher.py:5: RuntimeWarning: invalid value encountered in sqrt\n  \"\"\"\n"
     ]
    }
   ],
   "source": [
    "print(arr)\n",
    "print(10 * '=')\n",
    "print(np.sqrt(arr))\n",
    "print(10 * '=')\n",
    "print(np.sqrt(arr, arr))\n",
    "print(arr)\n"
   ]
  },
  {
   "cell_type": "code",
   "execution_count": 6,
   "metadata": {},
   "outputs": [
    {
     "name": "stdout",
     "output_type": "stream",
     "text": [
      "[0 1 2 3 4 5 6 7 8 9]\n==========\n"
     ]
    },
    {
     "ename": "TypeError",
     "evalue": "ufunc 'fabs' output (typecode 'd') could not be coerced to provided output parameter (typecode 'l') according to the casting rule ''same_kind''",
     "traceback": [
      "\u001b[0;31m---------------------------------------------------------------------------\u001b[0m",
      "\u001b[0;31mTypeError\u001b[0m                                 Traceback (most recent call last)",
      "\u001b[0;32m<ipython-input-6-7922eca5b4f5>\u001b[0m in \u001b[0;36m<module>\u001b[0;34m\u001b[0m\n\u001b[1;32m      2\u001b[0m \u001b[0mprint\u001b[0m\u001b[0;34m(\u001b[0m\u001b[0marr\u001b[0m\u001b[0;34m)\u001b[0m\u001b[0;34m\u001b[0m\u001b[0m\n\u001b[1;32m      3\u001b[0m \u001b[0mprint\u001b[0m\u001b[0;34m(\u001b[0m\u001b[0;36m10\u001b[0m \u001b[0;34m*\u001b[0m \u001b[0;34m'='\u001b[0m\u001b[0;34m)\u001b[0m\u001b[0;34m\u001b[0m\u001b[0m\n\u001b[0;32m----> 4\u001b[0;31m \u001b[0mprint\u001b[0m\u001b[0;34m(\u001b[0m\u001b[0mnp\u001b[0m\u001b[0;34m.\u001b[0m\u001b[0mfabs\u001b[0m\u001b[0;34m(\u001b[0m\u001b[0marr\u001b[0m\u001b[0;34m,\u001b[0m \u001b[0marr\u001b[0m\u001b[0;34m)\u001b[0m\u001b[0;34m)\u001b[0m\u001b[0;34m\u001b[0m\u001b[0m\n\u001b[0m\u001b[1;32m      5\u001b[0m \u001b[0mprint\u001b[0m\u001b[0;34m(\u001b[0m\u001b[0;36m10\u001b[0m \u001b[0;34m*\u001b[0m \u001b[0;34m'='\u001b[0m\u001b[0;34m)\u001b[0m\u001b[0;34m\u001b[0m\u001b[0m\n\u001b[1;32m      6\u001b[0m \u001b[0mprint\u001b[0m\u001b[0;34m(\u001b[0m\u001b[0marr\u001b[0m\u001b[0;34m)\u001b[0m\u001b[0;34m\u001b[0m\u001b[0m\n",
      "\u001b[0;31mTypeError\u001b[0m: ufunc 'fabs' output (typecode 'd') could not be coerced to provided output parameter (typecode 'l') according to the casting rule ''same_kind''"
     ],
     "output_type": "error"
    }
   ],
   "source": [
    "arr = np.arange(10)\n",
    "print(arr)\n",
    "print(10 * '=')\n",
    "print(np.fabs(arr, arr))\n",
    "print(10 * '=')\n",
    "print(arr)\n"
   ]
  },
  {
   "cell_type": "code",
   "execution_count": 7,
   "metadata": {},
   "outputs": [
    {
     "name": "stdout",
     "output_type": "stream",
     "text": [
      "[0 1 2 3 4 5 6 7 8 9]\n==========\n[0. 1. 2. 3. 4. 5. 6. 7. 8. 9.]\n==========\n[0 1 2 3 4 5 6 7 8 9]\n"
     ]
    }
   ],
   "source": [
    "arr = np.arange(10)\n",
    "print(arr)\n",
    "print(10 * '=')\n",
    "print(np.fabs(arr))\n",
    "print(10 * '=')\n",
    "print(arr)"
   ]
  },
  {
   "cell_type": "code",
   "execution_count": 8,
   "metadata": {},
   "outputs": [
    {
     "name": "stdout",
     "output_type": "stream",
     "text": [
      "[0 1 1 1 1 1 1 1 1 1]\n"
     ]
    }
   ],
   "source": [
    "arr = np.arange(10)\n",
    "print(np.sign(arr))\n"
   ]
  },
  {
   "cell_type": "code",
   "execution_count": 9,
   "metadata": {},
   "outputs": [
    {
     "name": "stdout",
     "output_type": "stream",
     "text": [
      "[0 1 2 3 4 5 6 7 8 9]\n==========\n[0 1 1 1 1 1 1 1 1 1]\n"
     ]
    }
   ],
   "source": [
    "arr = np.arange(10)\n",
    "print(arr)\n",
    "print(10 * '=')\n",
    "print(np.sign(arr))\n"
   ]
  },
  {
   "cell_type": "code",
   "execution_count": 10,
   "metadata": {},
   "outputs": [
    {
     "name": "stdout",
     "output_type": "stream",
     "text": [
      "[-0.79081863  1.20163712  2.24082022 -1.30426587 -0.61436966  1.07702234\n -1.0611261   0.30811194 -1.24382029  0.30016644]\n==========\n[-1.  1.  1. -1. -1.  1. -1.  1. -1.  1.]\n"
     ]
    }
   ],
   "source": [
    "arr = np.random.randn(10)\n",
    "print(arr)\n",
    "print(10 * '=')\n",
    "print(np.sign(arr))\n"
   ]
  },
  {
   "cell_type": "code",
   "execution_count": 11,
   "metadata": {},
   "outputs": [
    {
     "name": "stdout",
     "output_type": "stream",
     "text": [
      "[ -5.22130601   0.07617485  -0.85595658  -5.7632768   23.8556817\n  -6.77176485 -14.4452011   12.9546558   10.52142349   5.20234623]\n==========\n[ -5.   1.  -0.  -5.  24.  -6. -14.  13.  11.   6.]\n==========\n[ -6.   0.  -1.  -6.  23.  -7. -15.  12.  10.   5.]\n"
     ]
    }
   ],
   "source": [
    "arr = np.random.randn(10) * 10\n",
    "print(arr)\n",
    "print(10 * '=')\n",
    "print(np.ceil(arr))\n",
    "print(10 * '=')\n",
    "print(np.floor(arr))\n"
   ]
  },
  {
   "cell_type": "code",
   "execution_count": null,
   "metadata": {},
   "outputs": [],
   "source": []
  }
 ],
 "metadata": {
  "kernelspec": {
   "display_name": "Python 2",
   "language": "python",
   "name": "python2"
  },
  "language_info": {
   "codemirror_mode": {
    "name": "ipython",
    "version": 2
   },
   "file_extension": ".py",
   "mimetype": "text/x-python",
   "name": "python",
   "nbconvert_exporter": "python",
   "pygments_lexer": "ipython2",
   "version": "2.7.6"
  }
 },
 "nbformat": 4,
 "nbformat_minor": 0
}
