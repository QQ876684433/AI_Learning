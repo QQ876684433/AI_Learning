{
 "cells": [
  {
   "cell_type": "code",
   "execution_count": 1,
   "metadata": {
    "id": "UtnewAd98I-y",
    "colab_type": "code",
    "colab": {
     "base_uri": "https://localhost:8080/",
     "height": 92.0
    },
    "outputId": "d7ffcc7c-c69e-44dd-af79-cf36f016602f",
    "executionInfo": {
     "status": "ok",
     "timestamp": 1.540902446705E12,
     "user_tz": -480.0,
     "elapsed": 42472.0,
     "user": {
      "displayName": "陈培鸿",
      "photoUrl": "https://lh5.googleusercontent.com/-BeOdhz33pdI/AAAAAAAAAAI/AAAAAAAAAAc/rms-uGuyRaY/s64/photo.jpg",
      "userId": "10279053846375238895"
     }
    }
   },
   "outputs": [
    {
     "name": "stderr",
     "output_type": "stream",
     "text": [
      "Using TensorFlow backend.\n"
     ]
    }
   ],
   "source": [
    "from keras.datasets import imdb\n",
    "\n",
    "(train_data, train_labels), (test_data, test_labels) = imdb.load_data(num_words=10000)\n"
   ]
  },
  {
   "cell_type": "code",
   "execution_count": 2,
   "metadata": {
    "id": "9YyEVEBO8JBE",
    "colab_type": "code",
    "colab": {}
   },
   "outputs": [],
   "source": [
    "import numpy as np\n",
    "\n",
    "\n",
    "def vectorize_sequence(sequence, dimension=10000):\n",
    "    result = np.zeros((len(sequence), dimension))\n",
    "    for i, sequence in enumerate(sequence):\n",
    "        result[i, sequence] = 1\n",
    "    return result\n",
    "\n",
    "\n",
    "x_train = vectorize_sequence(train_data)\n",
    "x_test = vectorize_sequence(test_data)\n"
   ]
  },
  {
   "cell_type": "code",
   "execution_count": 3,
   "metadata": {
    "id": "3WPmaywI8JBg",
    "colab_type": "code",
    "colab": {}
   },
   "outputs": [],
   "source": [
    "y_train = np.asarray(train_labels).astype('float32')\n",
    "y_test = np.asarray(test_labels).astype('float32')\n"
   ]
  },
  {
   "cell_type": "code",
   "execution_count": 7,
   "metadata": {
    "id": "wW6k1qra8JB_",
    "colab_type": "code",
    "colab": {}
   },
   "outputs": [],
   "source": [
    "from keras import models, layers\n",
    "\n",
    "model = models.Sequential()\n",
    "model.add(layers.Dense(64, activation='relu', input_shape=(10000,)))\n",
    "model.add(layers.Dense(64, activation='relu'))\n",
    "model.add(layers.Dense(1, activation='sigmoid'))\n"
   ]
  },
  {
   "cell_type": "code",
   "execution_count": 8,
   "metadata": {
    "id": "4fILYddo8JCH",
    "colab_type": "code",
    "colab": {}
   },
   "outputs": [
    {
     "ename": "ValueError",
     "evalue": "Could not interpret optimizer identifier: <class 'keras.optimizers.Nadam'>",
     "traceback": [
      "\u001b[0;31m---------------------------------------------------------------------------\u001b[0m",
      "\u001b[0;31mValueError\u001b[0m                                Traceback (most recent call last)",
      "\u001b[0;32m<ipython-input-8-215a99f4aa87>\u001b[0m in \u001b[0;36m<module>\u001b[0;34m\u001b[0m\n\u001b[1;32m      3\u001b[0m model.compile(optimizer=optimizers.nadam,\n\u001b[1;32m      4\u001b[0m               \u001b[0mloss\u001b[0m\u001b[0;34m=\u001b[0m\u001b[0mlosses\u001b[0m\u001b[0;34m.\u001b[0m\u001b[0mmse\u001b[0m\u001b[0;34m,\u001b[0m\u001b[0;34m\u001b[0m\u001b[0m\n\u001b[0;32m----> 5\u001b[0;31m               metrics=[metrics.binary_accuracy])\n\u001b[0m",
      "\u001b[0;32m~/.local/lib/python3.6/site-packages/keras/engine/training.py\u001b[0m in \u001b[0;36mcompile\u001b[0;34m(self, optimizer, loss, metrics, loss_weights, sample_weight_mode, weighted_metrics, target_tensors, **kwargs)\u001b[0m\n\u001b[1;32m     94\u001b[0m                 \u001b[0;31m`\u001b[0m\u001b[0moptimizer\u001b[0m\u001b[0;31m`\u001b[0m\u001b[0;34m,\u001b[0m\u001b[0;31m \u001b[0m\u001b[0;31m`\u001b[0m\u001b[0mloss\u001b[0m\u001b[0;31m`\u001b[0m\u001b[0;34m,\u001b[0m\u001b[0;31m \u001b[0m\u001b[0;31m`\u001b[0m\u001b[0mmetrics\u001b[0m\u001b[0;31m`\u001b[0m \u001b[0;32mor\u001b[0m\u001b[0;31m \u001b[0m\u001b[0;31m`\u001b[0m\u001b[0msample_weight_mode\u001b[0m\u001b[0;31m`\u001b[0m\u001b[0;34m.\u001b[0m\u001b[0;34m\u001b[0m\u001b[0m\n\u001b[1;32m     95\u001b[0m         \"\"\"\n\u001b[0;32m---> 96\u001b[0;31m         \u001b[0mself\u001b[0m\u001b[0;34m.\u001b[0m\u001b[0moptimizer\u001b[0m \u001b[0;34m=\u001b[0m \u001b[0moptimizers\u001b[0m\u001b[0;34m.\u001b[0m\u001b[0mget\u001b[0m\u001b[0;34m(\u001b[0m\u001b[0moptimizer\u001b[0m\u001b[0;34m)\u001b[0m\u001b[0;34m\u001b[0m\u001b[0m\n\u001b[0m\u001b[1;32m     97\u001b[0m         \u001b[0mself\u001b[0m\u001b[0;34m.\u001b[0m\u001b[0mloss\u001b[0m \u001b[0;34m=\u001b[0m \u001b[0mloss\u001b[0m \u001b[0;32mor\u001b[0m \u001b[0;34m[\u001b[0m\u001b[0;34m]\u001b[0m\u001b[0;34m\u001b[0m\u001b[0m\n\u001b[1;32m     98\u001b[0m         \u001b[0mself\u001b[0m\u001b[0;34m.\u001b[0m\u001b[0mmetrics\u001b[0m \u001b[0;34m=\u001b[0m \u001b[0mmetrics\u001b[0m \u001b[0;32mor\u001b[0m \u001b[0;34m[\u001b[0m\u001b[0;34m]\u001b[0m\u001b[0;34m\u001b[0m\u001b[0m\n",
      "\u001b[0;32m~/.local/lib/python3.6/site-packages/keras/optimizers.py\u001b[0m in \u001b[0;36mget\u001b[0;34m(identifier)\u001b[0m\n\u001b[1;32m    799\u001b[0m     \u001b[0;32melse\u001b[0m\u001b[0;34m:\u001b[0m\u001b[0;34m\u001b[0m\u001b[0m\n\u001b[1;32m    800\u001b[0m         raise ValueError('Could not interpret optimizer identifier: ' +\n\u001b[0;32m--> 801\u001b[0;31m                          str(identifier))\n\u001b[0m",
      "\u001b[0;31mValueError\u001b[0m: Could not interpret optimizer identifier: <class 'keras.optimizers.Nadam'>"
     ],
     "output_type": "error"
    }
   ],
   "source": [
    "from keras import losses, optimizers, metrics\n",
    "\n",
    "model.compile(optimizer=optimizers.nadam,\n",
    "              loss=losses.mse,\n",
    "              metrics=[metrics.binary_accuracy])\n"
   ]
  },
  {
   "cell_type": "code",
   "execution_count": 0,
   "metadata": {
    "id": "fPGJTIWg8JCM",
    "colab_type": "code",
    "colab": {}
   },
   "outputs": [],
   "source": [
    "x_val = x_train[:10000]\n",
    "partial_x_train = x_train[10000:]\n",
    "\n",
    "y_val = y_train[:10000]\n",
    "partial_y_train = y_train[10000:]\n"
   ]
  },
  {
   "cell_type": "code",
   "execution_count": 7,
   "metadata": {
    "id": "wgatztrh8JCf",
    "colab_type": "code",
    "colab": {
     "base_uri": "https://localhost:8080/",
     "height": 187.0
    },
    "outputId": "87109b56-45de-44f2-dfd3-0b16b40654f5",
    "executionInfo": {
     "status": "ok",
     "timestamp": 1.540902491299E12,
     "user_tz": -480.0,
     "elapsed": 9486.0,
     "user": {
      "displayName": "陈培鸿",
      "photoUrl": "https://lh5.googleusercontent.com/-BeOdhz33pdI/AAAAAAAAAAI/AAAAAAAAAAc/rms-uGuyRaY/s64/photo.jpg",
      "userId": "10279053846375238895"
     }
    }
   },
   "outputs": [
    {
     "name": "stdout",
     "output_type": "stream",
     "text": [
      "Train on 15000 samples, validate on 10000 samples\n",
      "Epoch 1/4\n",
      "15000/15000 [==============================] - 2s 165us/step - loss: 0.5083 - binary_accuracy: 0.7809 - val_loss: 0.3796 - val_binary_accuracy: 0.8686\n",
      "Epoch 2/4\n",
      "15000/15000 [==============================] - 2s 125us/step - loss: 0.3005 - binary_accuracy: 0.9045 - val_loss: 0.3001 - val_binary_accuracy: 0.8899\n",
      "Epoch 3/4\n",
      "15000/15000 [==============================] - 2s 126us/step - loss: 0.2179 - binary_accuracy: 0.9279 - val_loss: 0.3078 - val_binary_accuracy: 0.8722\n",
      "Epoch 4/4\n",
      "15000/15000 [==============================] - 2s 127us/step - loss: 0.1750 - binary_accuracy: 0.9435 - val_loss: 0.2842 - val_binary_accuracy: 0.8834\n"
     ]
    }
   ],
   "source": [
    "history = model.fit(partial_x_train, partial_y_train, epochs=4, batch_size=1024,\n",
    "                    validation_data=(x_val, y_val))\n"
   ]
  },
  {
   "cell_type": "code",
   "execution_count": 8,
   "metadata": {
    "id": "jFbP6sO18JC5",
    "colab_type": "code",
    "colab": {
     "base_uri": "https://localhost:8080/",
     "height": 36.0
    },
    "outputId": "7119aa97-3f31-4011-bfeb-e9077fb1163d",
    "executionInfo": {
     "status": "ok",
     "timestamp": 1.540902495291E12,
     "user_tz": -480.0,
     "elapsed": 1145.0,
     "user": {
      "displayName": "陈培鸿",
      "photoUrl": "https://lh5.googleusercontent.com/-BeOdhz33pdI/AAAAAAAAAAI/AAAAAAAAAAc/rms-uGuyRaY/s64/photo.jpg",
      "userId": "10279053846375238895"
     }
    }
   },
   "outputs": [
    {
     "data": {
      "text/plain": [
       "['loss', 'val_binary_accuracy', 'val_loss', 'binary_accuracy']"
      ]
     },
     "execution_count": 8,
     "metadata": {
      "tags": []
     },
     "output_type": "execute_result"
    }
   ],
   "source": [
    "history_dict = history.history\n",
    "history_dict.keys()\n"
   ]
  },
  {
   "cell_type": "code",
   "execution_count": 0,
   "metadata": {
    "id": "9_5l90CK8JEA",
    "colab_type": "code",
    "colab": {}
   },
   "outputs": [],
   "source": [
    "import matplotlib.pyplot as plt\n",
    "\n",
    "%matplotlib inline"
   ]
  },
  {
   "cell_type": "code",
   "execution_count": 10,
   "metadata": {
    "id": "aB1aneFG8JEa",
    "colab_type": "code",
    "colab": {
     "base_uri": "https://localhost:8080/",
     "height": 294.0
    },
    "outputId": "da01d477-77a5-4866-fa35-6672b7ed4fa9",
    "executionInfo": {
     "status": "ok",
     "timestamp": 1.540902504437E12,
     "user_tz": -480.0,
     "elapsed": 2072.0,
     "user": {
      "displayName": "陈培鸿",
      "photoUrl": "https://lh5.googleusercontent.com/-BeOdhz33pdI/AAAAAAAAAAI/AAAAAAAAAAc/rms-uGuyRaY/s64/photo.jpg",
      "userId": "10279053846375238895"
     }
    }
   },
   "outputs": [
    {
     "data": {
      "image/png": "[encoded data removed]",
      "text/plain": [
       "<matplotlib.figure.Figure at 0x7f82b28dd690>"
      ]
     },
     "metadata": {
      "tags": []
     },
     "output_type": "display_data"
    }
   ],
   "source": [
    "loss_values = history_dict['loss']\n",
    "val_loss_values = history_dict['val_loss']\n",
    "epochs = range(1, len(loss_values) + 1)\n",
    "\n",
    "plt.plot(epochs, loss_values, 'bo', label='Training loss')\n",
    "plt.plot(epochs, val_loss_values, 'b', label='Validation loss')\n",
    "plt.title('Training and validation loss')\n",
    "plt.xlabel('Epochs')\n",
    "plt.ylabel('Loss')\n",
    "plt.legend()\n",
    "plt.show()\n"
   ]
  },
  {
   "cell_type": "code",
   "execution_count": 11,
   "metadata": {
    "id": "4dAC7OCw8JEz",
    "colab_type": "code",
    "colab": {
     "base_uri": "https://localhost:8080/",
     "height": 294.0
    },
    "outputId": "c4fbf7c7-5cdc-44f0-e0f5-4b5530f81753",
    "executionInfo": {
     "status": "ok",
     "timestamp": 1.540902510425E12,
     "user_tz": -480.0,
     "elapsed": 2615.0,
     "user": {
      "displayName": "陈培鸿",
      "photoUrl": "https://lh5.googleusercontent.com/-BeOdhz33pdI/AAAAAAAAAAI/AAAAAAAAAAc/rms-uGuyRaY/s64/photo.jpg",
      "userId": "10279053846375238895"
     }
    }
   },
   "outputs": [
    {
     "data": {
      "image/png": "[encoded data removed]",
      "text/plain": [
       "<matplotlib.figure.Figure at 0x7f82b28948d0>"
      ]
     },
     "metadata": {
      "tags": []
     },
     "output_type": "display_data"
    }
   ],
   "source": [
    "plt.clf()\n",
    "acc = history_dict['binary_accuracy']\n",
    "val_acc = history_dict['val_binary_accuracy']\n",
    "\n",
    "plt.plot(epochs, acc, 'bo', label='Training acc')\n",
    "plt.plot(epochs, val_acc, 'b', label='Validation acc')\n",
    "plt.title('Training and validation accuracy')\n",
    "plt.xlabel('Epochs')\n",
    "plt.ylabel('Accuracy')\n",
    "plt.legend()\n",
    "plt.show()\n"
   ]
  },
  {
   "cell_type": "code",
   "execution_count": 12,
   "metadata": {
    "id": "OUpe5TiU8JFB",
    "colab_type": "code",
    "colab": {
     "base_uri": "https://localhost:8080/",
     "height": 36.0
    },
    "outputId": "c890cd17-d42a-4bfc-ac4c-ac873068da2e",
    "executionInfo": {
     "status": "ok",
     "timestamp": 1.540902517569E12,
     "user_tz": -480.0,
     "elapsed": 3451.0,
     "user": {
      "displayName": "陈培鸿",
      "photoUrl": "https://lh5.googleusercontent.com/-BeOdhz33pdI/AAAAAAAAAAI/AAAAAAAAAAc/rms-uGuyRaY/s64/photo.jpg",
      "userId": "10279053846375238895"
     }
    }
   },
   "outputs": [
    {
     "name": "stdout",
     "output_type": "stream",
     "text": [
      "25000/25000 [==============================] - 2s 83us/step\n"
     ]
    }
   ],
   "source": [
    "results = model.evaluate(x_test, y_test)\n"
   ]
  },
  {
   "cell_type": "code",
   "execution_count": 13,
   "metadata": {
    "id": "JEbXJMVX8JFI",
    "colab_type": "code",
    "colab": {
     "base_uri": "https://localhost:8080/",
     "height": 36.0
    },
    "outputId": "52bf3d2c-df54-4c84-d0ef-81dc3ef63a80",
    "executionInfo": {
     "status": "ok",
     "timestamp": 1.540902522992E12,
     "user_tz": -480.0,
     "elapsed": 1065.0,
     "user": {
      "displayName": "陈培鸿",
      "photoUrl": "https://lh5.googleusercontent.com/-BeOdhz33pdI/AAAAAAAAAAI/AAAAAAAAAAc/rms-uGuyRaY/s64/photo.jpg",
      "userId": "10279053846375238895"
     }
    }
   },
   "outputs": [
    {
     "data": {
      "text/plain": [
       "[0.30727137032032015, 0.87464]"
      ]
     },
     "execution_count": 13,
     "metadata": {
      "tags": []
     },
     "output_type": "execute_result"
    }
   ],
   "source": [
    "results"
   ]
  },
  {
   "cell_type": "code",
   "execution_count": 14,
   "metadata": {
    "id": "_l2sDANM8JFO",
    "colab_type": "code",
    "colab": {
     "base_uri": "https://localhost:8080/",
     "height": 149.0
    },
    "outputId": "9e60c7b8-3f0a-40f9-8779-ae91eb3933a7",
    "executionInfo": {
     "status": "ok",
     "timestamp": 1.540902527992E12,
     "user_tz": -480.0,
     "elapsed": 2638.0,
     "user": {
      "displayName": "陈培鸿",
      "photoUrl": "https://lh5.googleusercontent.com/-BeOdhz33pdI/AAAAAAAAAAI/AAAAAAAAAAc/rms-uGuyRaY/s64/photo.jpg",
      "userId": "10279053846375238895"
     }
    }
   },
   "outputs": [
    {
     "data": {
      "text/plain": [
       "array([[0.23256522],\n",
       "       [0.9974476 ],\n",
       "       [0.77904   ],\n",
       "       ...,\n",
       "       [0.08958707],\n",
       "       [0.10289306],\n",
       "       [0.3523987 ]], dtype=float32)"
      ]
     },
     "execution_count": 14,
     "metadata": {
      "tags": []
     },
     "output_type": "execute_result"
    }
   ],
   "source": [
    "model.predict(x_test)"
   ]
  },
  {
   "cell_type": "code",
   "execution_count": 0,
   "metadata": {
    "id": "h3nomQYv8JFd",
    "colab_type": "code",
    "colab": {}
   },
   "outputs": [],
   "source": [
    ""
   ]
  }
 ],
 "metadata": {
  "colab": {
   "name": "3_1.ipynb",
   "version": "0.3.2",
   "provenance": [],
   "collapsed_sections": []
  },
  "kernelspec": {
   "display_name": "Python 2",
   "language": "python",
   "name": "python2"
  }
 },
 "nbformat": 4,
 "nbformat_minor": 0
}
